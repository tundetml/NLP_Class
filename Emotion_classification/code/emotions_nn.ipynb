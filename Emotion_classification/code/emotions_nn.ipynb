{
 "cells": [
  {
   "cell_type": "markdown",
   "id": "28fec299-75c0-4d59-8613-ccb31ad98851",
   "metadata": {},
   "source": [
    "# Neurális háló\n",
    "\n",
    "Itt is a .csv fájlok beolvasásával kezdődik a munka. Mivel hozzáadtam a \"Label\" oszlopot is így tudok hisztogramot kirajzoltatni."
   ]
  },
  {
   "cell_type": "code",
   "execution_count": 1,
   "id": "12c8828b-d9f5-4b94-9257-1a361b4f9400",
   "metadata": {},
   "outputs": [
    {
     "name": "stdout",
     "output_type": "stream",
     "text": [
      "<class 'pandas.core.frame.DataFrame'>\n",
      "RangeIndex: 12875 entries, 0 to 12874\n",
      "Data columns (total 3 columns):\n",
      " #   Column   Non-Null Count  Dtype \n",
      "---  ------   --------------  ----- \n",
      " 0   Text     12875 non-null  object\n",
      " 1   Emotion  12875 non-null  object\n",
      " 2   Label    12875 non-null  int64 \n",
      "dtypes: int64(1), object(2)\n",
      "memory usage: 301.9+ KB\n"
     ]
    },
    {
     "data": {
      "text/plain": [
       "array([[<AxesSubplot:title={'center':'Label'}>]], dtype=object)"
      ]
     },
     "execution_count": 1,
     "metadata": {},
     "output_type": "execute_result"
    },
    {
     "data": {
      "image/png": "[encoded data removed]",
      "text/plain": [
       "<Figure size 432x288 with 1 Axes>"
      ]
     },
     "metadata": {
      "needs_background": "light"
     },
     "output_type": "display_data"
    }
   ],
   "source": [
    "import pandas as pd\n",
    "\n",
    "df_train = pd.read_csv(\"../data/emotions_train.csv\", sep=\",\")\n",
    "df_train.info()\n",
    "df_train.head()\n",
    "df_train.hist()"
   ]
  },
  {
   "cell_type": "code",
   "execution_count": 2,
   "id": "78984da1-4320-4bcd-9b7c-eb2c3a68ff8e",
   "metadata": {},
   "outputs": [
    {
     "name": "stdout",
     "output_type": "stream",
     "text": [
      "<class 'pandas.core.frame.DataFrame'>\n",
      "RangeIndex: 4292 entries, 0 to 4291\n",
      "Data columns (total 3 columns):\n",
      " #   Column   Non-Null Count  Dtype \n",
      "---  ------   --------------  ----- \n",
      " 0   Text     4292 non-null   object\n",
      " 1   Emotion  4292 non-null   object\n",
      " 2   Label    4292 non-null   int64 \n",
      "dtypes: int64(1), object(2)\n",
      "memory usage: 100.7+ KB\n"
     ]
    },
    {
     "data": {
      "text/plain": [
       "array([[<AxesSubplot:title={'center':'Label'}>]], dtype=object)"
      ]
     },
     "execution_count": 2,
     "metadata": {},
     "output_type": "execute_result"
    },
    {
     "data": {
      "image/png": "[encoded data removed]",
      "text/plain": [
       "<Figure size 432x288 with 1 Axes>"
      ]
     },
     "metadata": {
      "needs_background": "light"
     },
     "output_type": "display_data"
    }
   ],
   "source": [
    "df_val = pd.read_csv(\"../data/emotions_val.csv\", sep=\",\")\n",
    "df_val.info()\n",
    "df_val.head()\n",
    "df_val.hist()"
   ]
  },
  {
   "cell_type": "code",
   "execution_count": 3,
   "id": "776c1fc0-9124-40b8-ad6e-4c440c95f347",
   "metadata": {},
   "outputs": [
    {
     "name": "stdout",
     "output_type": "stream",
     "text": [
      "<class 'pandas.core.frame.DataFrame'>\n",
      "RangeIndex: 4292 entries, 0 to 4291\n",
      "Data columns (total 3 columns):\n",
      " #   Column   Non-Null Count  Dtype \n",
      "---  ------   --------------  ----- \n",
      " 0   Text     4292 non-null   object\n",
      " 1   Emotion  4292 non-null   object\n",
      " 2   Label    4292 non-null   int64 \n",
      "dtypes: int64(1), object(2)\n",
      "memory usage: 100.7+ KB\n"
     ]
    },
    {
     "data": {
      "text/plain": [
       "array([[<AxesSubplot:title={'center':'Label'}>]], dtype=object)"
      ]
     },
     "execution_count": 3,
     "metadata": {},
     "output_type": "execute_result"
    },
    {
     "data": {
      "image/png": "[encoded data removed]",
      "text/plain": [
       "<Figure size 432x288 with 1 Axes>"
      ]
     },
     "metadata": {
      "needs_background": "light"
     },
     "output_type": "display_data"
    }
   ],
   "source": [
    "df_test = pd.read_csv(\"../data/emotions_test.csv\", sep=\",\")\n",
    "df_test.info()\n",
    "df_test.head()\n",
    "df_test.hist()"
   ]
  },
  {
   "cell_type": "markdown",
   "id": "0601d753-60e1-405b-bb06-dfcc110f0774",
   "metadata": {},
   "source": [
    "A ```BertWordPieceTokenizer``` használatával tokeinzáljuk a szöveget."
   ]
  },
  {
   "cell_type": "code",
   "execution_count": 4,
   "id": "17c3314d-09ff-47d2-a6a7-a44e5ff0ba45",
   "metadata": {},
   "outputs": [],
   "source": [
    "import numpy as np\n",
    "from tokenizers import BertWordPieceTokenizer\n",
    "\n",
    "tokenizer = BertWordPieceTokenizer(\"../data/bert-base-uncased-vocab.txt\",\n",
    "                                   lowercase=True)\n",
    "\n",
    "def bert_tokenizer(data):\n",
    "    result = []\n",
    "    for item in data:\n",
    "        result.append(tokenizer.encode(item).ids)\n",
    "    \n",
    "    return np.array(result)"
   ]
  },
  {
   "cell_type": "markdown",
   "id": "2ce199ef-55af-452e-81f6-ce99e0cca3d4",
   "metadata": {},
   "source": [
    "Előállítjuk a következőket: ```X_train```, ```X_val```, ```X_test``` a tokenizált szövegekből. Illetve az ```y_train```, ```y_val``` és ```y_test```-et a \"Label\" értékekből. Ezekre majd a ```model.fit()``` során lesz szükségünk."
   ]
  },
  {
   "cell_type": "code",
   "execution_count": 5,
   "id": "e2130efa-39bb-4641-abb3-850971e9f4b3",
   "metadata": {},
   "outputs": [
    {
     "name": "stderr",
     "output_type": "stream",
     "text": [
      "C:\\Users\\tunde\\AppData\\Local\\Temp\\ipykernel_19888\\3104164827.py:12: VisibleDeprecationWarning: Creating an ndarray from ragged nested sequences (which is a list-or-tuple of lists-or-tuples-or ndarrays with different lengths or shapes) is deprecated. If you meant to do this, you must specify 'dtype=object' when creating the ndarray.\n",
      "  return np.array(result)\n"
     ]
    },
    {
     "name": "stdout",
     "output_type": "stream",
     "text": [
      "[4 3 0 ... 5 1 2]\n"
     ]
    }
   ],
   "source": [
    "import tensorflow as tf\n",
    "\n",
    "maxlen = 128\n",
    "\n",
    "X_train = list(df_train[\"Text\"].values)\n",
    "X_train = bert_tokenizer(X_train)\n",
    "X_train = tf.keras.preprocessing.sequence.pad_sequences(X_train, maxlen=maxlen)\n",
    "y_train = df_train[\"Label\"].values\n",
    "\n",
    "X_val = list(df_val[\"Text\"].values)\n",
    "X_val = bert_tokenizer(X_val)\n",
    "y_val = df_val[\"Label\"].values\n",
    "X_val = tf.keras.preprocessing.sequence.pad_sequences(X_val, maxlen=maxlen)\n",
    "\n",
    "X_test = list(df_test[\"Text\"].values)\n",
    "X_test = bert_tokenizer(X_test)\n",
    "y_test = df_test[\"Label\"].values\n",
    "X_test = tf.keras.preprocessing.sequence.pad_sequences(X_test, maxlen=maxlen)\n",
    "\n",
    "#print(X_train)\n",
    "print(y_train)"
   ]
  },
  {
   "cell_type": "markdown",
   "id": "98519385-7200-4e24-adb4-58a2e5303f8a",
   "metadata": {},
   "source": [
    "Összeállítjuk a modellt amit majd szeretnénk használni. Itt a ```units=6```-ot módosítottam mivel az általam használt adathalmazban 6 különböző osztály jelenik meg így ezt 6-ra módosítottam."
   ]
  },
  {
   "cell_type": "code",
   "execution_count": 6,
   "id": "74fe3457-f9fa-4346-a339-c21349f54424",
   "metadata": {},
   "outputs": [
    {
     "name": "stdout",
     "output_type": "stream",
     "text": [
      "Model: \"sequential\"\n",
      "_________________________________________________________________\n",
      " Layer (type)                Output Shape              Param #   \n",
      "=================================================================\n",
      " embedding (Embedding)       (None, 128, 8)            244176    \n",
      "                                                                 \n",
      " flatten (Flatten)           (None, 1024)              0         \n",
      "                                                                 \n",
      " dense (Dense)               (None, 32)                32800     \n",
      "                                                                 \n",
      " dense_1 (Dense)             (None, 6)                 198       \n",
      "                                                                 \n",
      "=================================================================\n",
      "Total params: 277,174\n",
      "Trainable params: 277,174\n",
      "Non-trainable params: 0\n",
      "_________________________________________________________________\n"
     ]
    }
   ],
   "source": [
    "import tensorflow as tf\n",
    "\n",
    "max_features = 30522  # vocab size\n",
    "\n",
    "model = tf.keras.Sequential([\n",
    "    tf.keras.layers.Embedding(max_features, 8, input_length=maxlen),\n",
    "    tf.keras.layers.Flatten(),\n",
    "    tf.keras.layers.Dense(32),\n",
    "    tf.keras.layers.Dense(units=6, activation='softmax')\n",
    "]) \n",
    "\n",
    "model.compile(optimizer='adam',\n",
    "              loss=\"sparse_categorical_crossentropy\",\n",
    "              metrics=['accuracy'])\n",
    "\n",
    "model.summary()"
   ]
  },
  {
   "cell_type": "markdown",
   "id": "29057879-35ca-408b-a126-ac14c4ab09ee",
   "metadata": {},
   "source": [
    "10 epoch-on keresztül zajlik a taníttatás. A ```.fit()```-en belül a ```class-weight``` beállításával lehet hangolni, ha esetleg egyenetlen eloszlásúak az osztályok. Itt valószínűlegh az én esetemben ezeknek a súlyozását még lehetett volna tovább finomítani."
   ]
  },
  {
   "cell_type": "code",
   "execution_count": 7,
   "id": "8ea0c667-a48b-4b1a-a52b-30764fa93053",
   "metadata": {},
   "outputs": [
    {
     "name": "stdout",
     "output_type": "stream",
     "text": [
      "Epoch 1/10\n",
      "403/403 [==============================] - 2s 5ms/step - loss: 3.0466 - accuracy: 0.2259 - val_loss: 1.5422 - val_accuracy: 0.4301\n",
      "Epoch 2/10\n",
      "403/403 [==============================] - 1s 4ms/step - loss: 1.9505 - accuracy: 0.6211 - val_loss: 0.9417 - val_accuracy: 0.6789\n",
      "Epoch 3/10\n",
      "403/403 [==============================] - 2s 4ms/step - loss: 0.7771 - accuracy: 0.8605 - val_loss: 0.7047 - val_accuracy: 0.7740\n",
      "Epoch 4/10\n",
      "403/403 [==============================] - 1s 4ms/step - loss: 0.3574 - accuracy: 0.9413 - val_loss: 0.6462 - val_accuracy: 0.7950\n",
      "Epoch 5/10\n",
      "403/403 [==============================] - 2s 4ms/step - loss: 0.1988 - accuracy: 0.9682 - val_loss: 0.6606 - val_accuracy: 0.7968\n",
      "Epoch 6/10\n",
      "403/403 [==============================] - 1s 4ms/step - loss: 0.1278 - accuracy: 0.9803 - val_loss: 0.6854 - val_accuracy: 0.8015\n",
      "Epoch 7/10\n",
      "403/403 [==============================] - 2s 4ms/step - loss: 0.0834 - accuracy: 0.9898 - val_loss: 0.7270 - val_accuracy: 0.8034\n",
      "Epoch 8/10\n",
      "403/403 [==============================] - 2s 4ms/step - loss: 0.0637 - accuracy: 0.9918 - val_loss: 0.7764 - val_accuracy: 0.7992\n",
      "Epoch 9/10\n",
      "403/403 [==============================] - 2s 4ms/step - loss: 0.0493 - accuracy: 0.9939 - val_loss: 0.8158 - val_accuracy: 0.8006\n",
      "Epoch 10/10\n",
      "403/403 [==============================] - 2s 4ms/step - loss: 0.0404 - accuracy: 0.9947 - val_loss: 0.8844 - val_accuracy: 0.7896\n"
     ]
    }
   ],
   "source": [
    "with tf.device('/CPU:0'):\n",
    "    h = model.fit(x=X_train, \n",
    "                y=y_train,\n",
    "                epochs=10,\n",
    "                batch_size=32,\n",
    "                class_weight={0:1.,\n",
    "                             1:2.,\n",
    "                             2:3.,\n",
    "                             3:6.,\n",
    "                             4:3.,\n",
    "                             5:1.},\n",
    "                validation_data=(X_val, y_val))"
   ]
  },
  {
   "cell_type": "markdown",
   "id": "238d71a6-589c-446a-8ac3-0ecdf75262d7",
   "metadata": {},
   "source": [
    "Megnézhetjük, hogyan zajlott a modell tanulási folyamata grafikonokon és különböző értékeken keresztül."
   ]
  },
  {
   "cell_type": "code",
   "execution_count": 8,
   "id": "80d28c49-74f0-4aaf-84d3-7af01f1c0456",
   "metadata": {},
   "outputs": [
    {
     "data": {
      "image/png": "[encoded data removed]",
      "text/plain": [
       "<Figure size 432x288 with 1 Axes>"
      ]
     },
     "metadata": {
      "needs_background": "light"
     },
     "output_type": "display_data"
    }
   ],
   "source": [
    "import matplotlib.pyplot as plt\n",
    "\n",
    "plt.plot(h.history['loss'], label='(training data)',color='blue')\n",
    "plt.plot(h.history['val_loss'], label='(val data)',color='green')\n",
    "plt.title('Neural Network loss')\n",
    "plt.ylabel('value')\n",
    "plt.xlabel('No. epoch')\n",
    "plt.show()"
   ]
  },
  {
   "cell_type": "code",
   "execution_count": 9,
   "id": "8237b3ce-69b9-46cb-8da6-a33d8dfe0715",
   "metadata": {},
   "outputs": [
    {
     "data": {
      "image/png": "[encoded data removed]",
      "text/plain": [
       "<Figure size 432x288 with 1 Axes>"
      ]
     },
     "metadata": {
      "needs_background": "light"
     },
     "output_type": "display_data"
    }
   ],
   "source": [
    "import matplotlib.pyplot as plt\n",
    "\n",
    "plt.plot(h.history['accuracy'], label='(training data)',color='blue')\n",
    "plt.plot(h.history['val_accuracy'], label='(val data)',color='green')\n",
    "plt.title('Neural Network accuracy')\n",
    "plt.ylabel('value')\n",
    "plt.xlabel('No. epoch')\n",
    "plt.show()"
   ]
  },
  {
   "cell_type": "code",
   "execution_count": 10,
   "id": "7c2cd087-71ae-4b8e-b862-5bdb8cd46085",
   "metadata": {},
   "outputs": [
    {
     "name": "stdout",
     "output_type": "stream",
     "text": [
      "135/135 [==============================] - 0s 2ms/step - loss: 1.7394 - accuracy: 0.6552\n",
      "test loss, test acc: [1.7394280433654785, 0.6551724076271057]\n"
     ]
    }
   ],
   "source": [
    "with tf.device('/CPU:0'):\n",
    "    results = model.evaluate(X_test, y_test, batch_size=32)\n",
    "    print(\"test loss, test acc:\", results)"
   ]
  },
  {
   "cell_type": "code",
   "execution_count": 11,
   "id": "bffac700-02d7-482f-9e27-5c3cb34b5bfa",
   "metadata": {},
   "outputs": [],
   "source": [
    "df_test_raw = pd.read_csv(\"../data/emotions_test.csv\", sep=\",\")"
   ]
  },
  {
   "cell_type": "markdown",
   "id": "d2aad0f1-3542-4130-abe5-a61910181824",
   "metadata": {},
   "source": [
    "Végül meg lehet nézni, hogyan működik a modell. Itt ki fogja írni egy egy szövegre a modell \"előrejelzését\" illetve hogy mi is a valódi osztálya egy-egy szövegnek."
   ]
  },
  {
   "cell_type": "code",
   "execution_count": 12,
   "id": "3dec3d01-dc59-48eb-9a59-1a98edb8aca2",
   "metadata": {},
   "outputs": [
    {
     "name": "stdout",
     "output_type": "stream",
     "text": [
      "4/4 [==============================] - 0s 2ms/step\n",
      "i was feeling rather cranky cos i was thinking about the lack of sleep i had bah ...\n",
      "Pred:  [0. 1. 0. 0. 0. 0.] Real:  1\n",
      "i came out of the airport that makes me feel irritable uncomfortable and even sadder ...\n",
      "Pred:  [0. 1. 0. 0. 0. 0.] Real:  1\n",
      "i feel dirty watching this series and you can tell how the series is trying to induce false emotions ...\n",
      "Pred:  [1. 0. 0. 0. 0. 0.] Real:  0\n",
      "He was so miserabl ...\n",
      "Pred:  [1. 0. 0. 0. 0. 0.] Real:  0\n",
      "i feel like a moronic bastard ...\n",
      "Pred:  [1. 0. 0. 0. 0. 0.] Real:  0\n",
      "i find enlightening and brilliant when i am feeling joyful can be annoying and slightly grating when ...\n",
      "Pred:  [0. 0. 0. 0. 1. 0.] Real:  5\n",
      "i feel lost and then found november i have told jamie this several times ...\n",
      "Pred:  [0. 1. 0. 0. 0. 0.] Real:  0\n",
      "i do reviews only on my personal experience please do not feel insulted or put off by my words i int ...\n",
      "Pred:  [0. 1. 0. 0. 0. 0.] Real:  1\n",
      "I understood that this was my mother 's wedding , and although I was necessary to it I was expected  ...\n",
      "Pred:  [1. 0. 0. 0. 0. 0.] Real:  5\n",
      "i feel too greedy to actually ask them ...\n",
      "Pred:  [0. 1. 0. 0. 0. 0.] Real:  1\n",
      "In the longer term the offspring of depressed mothers are more likely to suffer from childhood depre ...\n",
      "Pred:  [1. 0. 0. 0. 0. 0.] Real:  0\n",
      "Lily shot a quick horrified look up and down the ro ...\n",
      "Pred:  [0. 0. 0. 0. 0. 1.] Real:  4\n",
      "i feel like they don t think it s sincere when it really is she told us exclusively ...\n",
      "Pred:  [0. 0. 0. 0. 0. 1.] Real:  5\n",
      "i do go for days as has happened recently i feel clearer and more compassionate ...\n",
      "Pred:  [0. 0. 1. 0. 0. 0.] Real:  2\n",
      "i said it when i read about people who are loosing more weight losing it quicker or who are just bei ...\n",
      "Pred:  [0. 1. 0. 0. 0. 0.] Real:  1\n",
      "` Tears of rage and despair have been shed by SNP workers and our voters are s ...\n",
      "Pred:  [0. 0. 1. 0. 0. 0.] Real:  3\n",
      "Aston Villa are having a great run , but they hold no particular horrors for the Norwich playe ...\n",
      "Pred:  [1. 0. 0. 0. 0. 0.] Real:  4\n",
      "i feel like it add a little bit more shield from the cold and the fabric is great for wicking away s ...\n",
      "Pred:  [0. 0. 0. 0. 1. 0.] Real:  1\n",
      "Nor was the thought that he alone might hold the key to the mystery the sole component in his strang ...\n",
      "Pred:  [0. 0. 0. 0. 0. 1.] Real:  5\n",
      "i was going to tell you more about my trip to oregon but right now im not super feeling it and readi ...\n",
      "Pred:  [0. 0. 0. 0. 0. 0.] Real:  0\n",
      "i know i haven t met most of you in person but i feel so honored to be able to come together with yo ...\n",
      "Pred:  [0. 0. 0. 0. 0. 1.] Real:  5\n",
      "i bet yahoo feel pretty shitty right now ...\n",
      "Pred:  [1. 0. 0. 0. 0. 0.] Real:  0\n",
      "There was an anguished cry from the tu ...\n",
      "Pred:  [1. 0. 0. 0. 0. 0.] Real:  0\n",
      "i feel a cold or sore throat coming on i simply use a onguard regime to nip it in the bud ...\n",
      "Pred:  [0. 1. 0. 0. 0. 0.] Real:  1\n",
      "im feeling a little lethargic ...\n",
      "Pred:  [1. 0. 0. 0. 0. 0.] Real:  0\n",
      "But I do n't want an indignant boyfriend on my doorstep breathing fir ...\n",
      "Pred:  [0. 0. 0. 0. 1. 0.] Real:  1\n",
      "i woke up this morning feeling hopeful and energetic ...\n",
      "Pred:  [0. 0. 0. 0. 0. 1.] Real:  5\n",
      "im feeling quite optimistic but im still keeping my fingers crossed ...\n",
      "Pred:  [0. 0. 0. 0. 0. 1.] Real:  5\n",
      "i really feel pissed off as i want to spend more time with you ...\n",
      "Pred:  [0. 1. 0. 0. 0. 0.] Real:  1\n",
      "i like good jokes i like to have a good company and subkect of talking i like a man that can make a  ...\n",
      "Pred:  [0. 0. 1. 0. 0. 0.] Real:  2\n",
      "i do feel terribly remourseful that i didnt stay faithful to my plans and get him sooner ...\n",
      "Pred:  [0. 0. 0. 0. 0. 1.] Real:  2\n",
      "He looked so downcast that even Angalo patted him on the shoulde ...\n",
      "Pred:  [1. 0. 0. 0. 0. 0.] Real:  0\n",
      "im feeling excited about it ...\n",
      "Pred:  [0. 0. 0. 0. 0. 1.] Real:  5\n",
      "i got a sore throat then a runny nose then a full blown congested head cold which fell on the bank h ...\n",
      "Pred:  [1. 0. 0. 0. 0. 0.] Real:  0\n",
      "What does stand out is that everyone believes that the profession , its standards and its aims , mat ...\n",
      "Pred:  [0. 0. 0. 0. 0. 1.] Real:  5\n",
      "He looked at her with exasperation when she just gazed at him with wide deep blue e ...\n",
      "Pred:  [0. 0. 0. 0. 0. 0.] Real:  1\n",
      "` Those poor little girls must be frightened out of their min ...\n",
      "Pred:  [0. 0. 0. 0. 1. 0.] Real:  4\n",
      "i feel should be determined by me and my actions and nobody or nothing else ...\n",
      "Pred:  [0. 0. 0. 0. 0. 1.] Real:  5\n",
      "i also feel it is unfortunate that nearly all the readers of going to meet the man will be african a ...\n",
      "Pred:  [1. 0. 0. 0. 0. 0.] Real:  0\n",
      "Court sounded almost indign ...\n",
      "Pred:  [0. 0. 0. 0. 1. 0.] Real:  1\n",
      "No less a person than Gloria Estefan rang my startled publisher before leaving London , to order the ...\n",
      "Pred:  [0. 0. 0. 0. 1. 0.] Real:  3\n",
      "i am sure it will change a number of times before i am through but just at the moment i am feeling i ...\n",
      "Pred:  [0. 0. 0. 0. 0. 1.] Real:  5\n",
      "Daisy leaned forward , at once horrified and fascinat ...\n",
      "Pred:  [0. 0. 0. 0. 0. 0.] Real:  4\n",
      "Mitchum was furious when he heard t ...\n",
      "Pred:  [0. 1. 0. 0. 0. 0.] Real:  1\n",
      "i feel quite jaded and unenthusiastic about life on most days ...\n",
      "Pred:  [0. 0. 0. 0. 1. 0.] Real:  0\n",
      "Other people 's sorrows on the whole weigh lightly on our shoulders : a merciful provisio ...\n",
      "Pred:  [1. 0. 0. 0. 0. 0.] Real:  0\n",
      "im not excited to be able to dress in my style and to put on some lipstick but i feel determined to  ...\n",
      "Pred:  [0. 0. 0. 0. 0. 1.] Real:  5\n",
      "i feel far less lonely ...\n",
      "Pred:  [1. 0. 0. 0. 0. 0.] Real:  0\n",
      "i feel pathetic and uninspired ...\n",
      "Pred:  [1. 0. 0. 0. 0. 0.] Real:  0\n",
      "Someone must have buried them when they were too frightened to hand them in to the police stati ...\n",
      "Pred:  [0. 0. 0. 0. 1. 0.] Real:  4\n",
      "i dont know if i feel thrilled at finally getting to go camping again with people i like and know fi ...\n",
      "Pred:  [0. 0. 0. 0. 0. 1.] Real:  5\n",
      "Piggy had no sense of humour and often got very angry when other boys found things he did amus ...\n",
      "Pred:  [0. 1. 0. 0. 0. 0.] Real:  1\n",
      "I was so desolate about Chi ...\n",
      "Pred:  [0. 0. 0. 0. 1. 0.] Real:  0\n",
      "Creggan had never in his short life felt so desolate , and try as he did he could not rest and fall  ...\n",
      "Pred:  [0. 0. 0. 0. 1. 0.] Real:  0\n",
      "i have a lot of feelings of love and warmth for her but sometimes i think i tortured her ...\n",
      "Pred:  [0. 0. 0. 0. 1. 0.] Real:  1\n",
      "im now winded at the end of a tough rally but during the rally i feel good enough to stay in the poi ...\n",
      "Pred:  [0. 0. 0. 0. 0. 1.] Real:  5\n",
      "i to feel unwelcome at her apartment certainly not ...\n",
      "Pred:  [1. 0. 0. 0. 0. 0.] Real:  0\n",
      "i feel invigorated full of energy ready for the day ahead ...\n",
      "Pred:  [0. 0. 0. 0. 0. 1.] Real:  5\n",
      "i feel so hopeless and unloved and unwanted ...\n",
      "Pred:  [1. 0. 0. 0. 0. 0.] Real:  0\n",
      "i actually feel a bit reluctant to really tell you too much about it ...\n",
      "Pred:  [0. 0. 0. 0. 1. 0.] Real:  4\n",
      "He was not inconsolabl ...\n",
      "Pred:  [0. 0. 0. 0. 0. 0.] Real:  0\n",
      "i feel dirty and ashamed for saying that ...\n",
      "Pred:  [1. 0. 0. 0. 0. 0.] Real:  0\n",
      "i feel threatened and my sense of security feels threatened i freak out ...\n",
      "Pred:  [0. 0. 0. 0. 1. 0.] Real:  4\n",
      "ive been having more frequent hot flashes throughout the day sometimes and im starting to feel just  ...\n",
      "Pred:  [0. 0. 1. 0. 0. 0.] Real:  2\n",
      "i feel is an acceptable and significant modernization to the storyline not a detraction ...\n",
      "Pred:  [0. 0. 0. 0. 0. 1.] Real:  5\n",
      "But when I looked up , I saw , to my great astonishment , a large island in the sky , between me and ...\n",
      "Pred:  [0. 0. 0. 0. 1. 0.] Real:  3\n",
      "i gotta feeling that tonight s gonna be a good night as i follow you home break in and hug you throu ...\n",
      "Pred:  [0. 0. 0. 0. 0. 1.] Real:  5\n",
      "Help us to become more aware of the needs , the joys and the sorrows of our brothers her ...\n",
      "Pred:  [0. 0. 0. 0. 0. 1.] Real:  0\n",
      "` Of course , we were devastated , but we knew now what had been wrong all along -- and at least the ...\n",
      "Pred:  [0. 1. 0. 0. 0. 0.] Real:  0\n",
      "i just act how i feel im becoming what ive always hated ...\n",
      "Pred:  [0. 1. 0. 0. 0. 0.] Real:  1\n",
      "i shouldnt feel threatened by that ...\n",
      "Pred:  [0. 0. 0. 0. 1. 0.] Real:  4\n",
      "i hope i m proved wrong but i can t see the england u international hitting double figures next seas ...\n",
      "Pred:  [1. 0. 0. 0. 0. 0.] Real:  0\n",
      "` We do n't go to Lightwater Valley , \" said an equally affronted bus dri ...\n",
      "Pred:  [1. 0. 0. 0. 0. 0.] Real:  1\n",
      "Though later when I did the piece in Vienna I was furious when the orchestra showed up with five bas ...\n",
      "Pred:  [1. 0. 0. 0. 0. 0.] Real:  1\n",
      "That was still the kind of work that I wanted to do , and if I thought very much a comprehensive sch ...\n",
      "Pred:  [0. 0. 0. 0. 0. 1.] Real:  4\n",
      "i nearly barfed on the day before came inside to ask me how i was feeling and as i assured her i was ...\n",
      "Pred:  [0. 0. 0. 0. 0. 1.] Real:  5\n",
      "After the operation , you may feel sick or very depressed -- this is the effect of the trauma of the ...\n",
      "Pred:  [0. 0. 0. 0. 1. 0.] Real:  0\n",
      "i still feel a tad bit skeptical ...\n",
      "Pred:  [0. 0. 0. 0. 1. 0.] Real:  4\n",
      "` If you do n't help me , I shall make you more miserable than you have ever been in your lif ...\n",
      "Pred:  [1. 0. 0. 0. 0. 0.] Real:  0\n",
      "i feel try to tell me im ungrateful tell me im basically the worst daughter sister in the world ...\n",
      "Pred:  [1. 0. 0. 0. 0. 0.] Real:  0\n",
      "` Robots , \" he said , ` gave me a means of venting my anger , \" a remark whose logic baffled me unt ...\n",
      "Pred:  [0. 0. 0. 0. 1. 0.] Real:  1\n",
      "i feel its hardly a loss since the food at kao chi is not only delicious but also more budget friend ...\n",
      "Pred:  [0. 0. 0. 0. 0. 1.] Real:  5\n",
      "i was feeling really hot and i thought id whip up a sorbet to cool me down ...\n",
      "Pred:  [0. 0. 0. 0. 0. 1.] Real:  2\n",
      "i now know how bad it feels like to have someone disappointed in me ...\n",
      "Pred:  [1. 0. 0. 0. 0. 0.] Real:  0\n",
      "i don t know how i feel i guess it s one of those moments where you want to feel like you re accepte ...\n",
      "Pred:  [0. 0. 0. 0. 0. 1.] Real:  2\n",
      "Trance-like he drove down the Edgware Road , responding to the multitudinous traffic lights with mec ...\n",
      "Pred:  [0. 1. 0. 0. 0. 0.] Real:  4\n",
      "i couldn t help but feel as if rin was not as strong as a protagonist as isi enna or razo i did end  ...\n",
      "Pred:  [0. 0. 0. 0. 0. 1.] Real:  5\n",
      "i feel sure is greater to those who are not dazzled by the divine radiance and human comradeship see ...\n",
      "Pred:  [0. 0. 0. 0. 0. 1.] Real:  5\n",
      "The poor frightened girl packed her things and ran out , saying she was going to Reno for a divor ...\n",
      "Pred:  [0. 0. 0. 0. 1. 0.] Real:  4\n",
      "i feel like my rejected little artist comes by to remind me not to ignore it from time to time ...\n",
      "Pred:  [1. 0. 0. 0. 0. 0.] Real:  0\n",
      "He gave one swift look at her horrified expression before continui ...\n",
      "Pred:  [0. 0. 0. 0. 1. 0.] Real:  4\n",
      "i hope all of you epers feel terrific too ...\n",
      "Pred:  [0. 0. 0. 0. 0. 1.] Real:  5\n",
      "` How pleased your uncle will be , \" said Finn , loitering for hot shaving wa ...\n",
      "Pred:  [0. 0. 1. 0. 0. 0.] Real:  5\n",
      "i am working right now guys and feel horny and so much passion ...\n",
      "Pred:  [0. 0. 1. 0. 0. 0.] Real:  2\n",
      "i feel so useless as i am bent on p here on the floor ...\n",
      "Pred:  [1. 0. 0. 0. 0. 0.] Real:  0\n",
      "Captain McArthur was a musical comedy aficionado , and not pleased when Mrs Kingswood spoke critical ...\n",
      "Pred:  [0. 0. 0. 0. 0. 1.] Real:  5\n",
      "i feel amused and free ...\n",
      "Pred:  [0. 0. 0. 0. 0. 1.] Real:  5\n",
      "i usually love being home im starting to feel anxious about all of this ...\n",
      "Pred:  [0. 0. 0. 0. 1. 0.] Real:  4\n",
      "When he came to the part about the clip he glanced up , and she saw the flare of excitement in his s ...\n",
      "Pred:  [0. 0. 0. 0. 0. 1.] Real:  5\n",
      "He seemed agitated , restlessly pacing about , looking out into the crowds , then drawing back into  ...\n",
      "Pred:  [0. 0. 0. 0. 1. 0.] Real:  4\n"
     ]
    }
   ],
   "source": [
    "with tf.device('/CPU:0'):\n",
    "    predictions = np.round(model.predict(X_test[:100]))\n",
    "    for i in range(len(predictions)):\n",
    "        print(df_test_raw[\"Text\"].values[i][:100],\"...\")\n",
    "        print(\"Pred: \", predictions[i], \"Real: \", y_test[i])"
   ]
  },
  {
   "cell_type": "code",
   "execution_count": null,
   "id": "b0f786e4-5408-4ec7-9cc1-367ac8beed3e",
   "metadata": {},
   "outputs": [],
   "source": []
  }
 ],
 "metadata": {
  "kernelspec": {
   "display_name": "Python 3 (ipykernel)",
   "language": "python",
   "name": "python3"
  },
  "language_info": {
   "codemirror_mode": {
    "name": "ipython",
    "version": 3
   },
   "file_extension": ".py",
   "mimetype": "text/x-python",
   "name": "python",
   "nbconvert_exporter": "python",
   "pygments_lexer": "ipython3",
   "version": "3.9.12"
  }
 },
 "nbformat": 4,
 "nbformat_minor": 5
}
