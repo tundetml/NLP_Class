{
 "cells": [
  {
   "cell_type": "markdown",
   "id": "e26ba4a0-fafb-425f-b865-6d1012d7329f",
   "metadata": {},
   "source": [
    "# Logsztikus regresszió használata\n",
    "Első lépésként olvassuk be a létrehozott 3 .csv állományt"
   ]
  },
  {
   "cell_type": "code",
   "execution_count": 1,
   "id": "4a3428b4-a380-41cd-b99c-e474a9c7b37a",
   "metadata": {},
   "outputs": [
    {
     "name": "stdout",
     "output_type": "stream",
     "text": [
      "<class 'pandas.core.frame.DataFrame'>\n",
      "RangeIndex: 12875 entries, 0 to 12874\n",
      "Data columns (total 3 columns):\n",
      " #   Column   Non-Null Count  Dtype \n",
      "---  ------   --------------  ----- \n",
      " 0   Text     12875 non-null  object\n",
      " 1   Emotion  12875 non-null  object\n",
      " 2   Label    12875 non-null  int64 \n",
      "dtypes: int64(1), object(2)\n",
      "memory usage: 301.9+ KB\n",
      "<class 'pandas.core.frame.DataFrame'>\n",
      "RangeIndex: 4292 entries, 0 to 4291\n",
      "Data columns (total 3 columns):\n",
      " #   Column   Non-Null Count  Dtype \n",
      "---  ------   --------------  ----- \n",
      " 0   Text     4292 non-null   object\n",
      " 1   Emotion  4292 non-null   object\n",
      " 2   Label    4292 non-null   int64 \n",
      "dtypes: int64(1), object(2)\n",
      "memory usage: 100.7+ KB\n",
      "<class 'pandas.core.frame.DataFrame'>\n",
      "RangeIndex: 4292 entries, 0 to 4291\n",
      "Data columns (total 3 columns):\n",
      " #   Column   Non-Null Count  Dtype \n",
      "---  ------   --------------  ----- \n",
      " 0   Text     4292 non-null   object\n",
      " 1   Emotion  4292 non-null   object\n",
      " 2   Label    4292 non-null   int64 \n",
      "dtypes: int64(1), object(2)\n",
      "memory usage: 100.7+ KB\n"
     ]
    },
    {
     "data": {
      "text/html": [
       "<div>\n",
       "<style scoped>\n",
       "    .dataframe tbody tr th:only-of-type {\n",
       "        vertical-align: middle;\n",
       "    }\n",
       "\n",
       "    .dataframe tbody tr th {\n",
       "        vertical-align: top;\n",
       "    }\n",
       "\n",
       "    .dataframe thead th {\n",
       "        text-align: right;\n",
       "    }\n",
       "</style>\n",
       "<table border=\"1\" class=\"dataframe\">\n",
       "  <thead>\n",
       "    <tr style=\"text-align: right;\">\n",
       "      <th></th>\n",
       "      <th>Text</th>\n",
       "      <th>Emotion</th>\n",
       "      <th>Label</th>\n",
       "    </tr>\n",
       "  </thead>\n",
       "  <tbody>\n",
       "    <tr>\n",
       "      <th>0</th>\n",
       "      <td>i was feeling rather cranky cos i was thinking...</td>\n",
       "      <td>anger</td>\n",
       "      <td>1</td>\n",
       "    </tr>\n",
       "    <tr>\n",
       "      <th>1</th>\n",
       "      <td>i came out of the airport that makes me feel i...</td>\n",
       "      <td>anger</td>\n",
       "      <td>1</td>\n",
       "    </tr>\n",
       "    <tr>\n",
       "      <th>2</th>\n",
       "      <td>i feel dirty watching this series and you can ...</td>\n",
       "      <td>sadness</td>\n",
       "      <td>0</td>\n",
       "    </tr>\n",
       "    <tr>\n",
       "      <th>3</th>\n",
       "      <td>He was so miserabl</td>\n",
       "      <td>sadness</td>\n",
       "      <td>0</td>\n",
       "    </tr>\n",
       "    <tr>\n",
       "      <th>4</th>\n",
       "      <td>i feel like a moronic bastard</td>\n",
       "      <td>sadness</td>\n",
       "      <td>0</td>\n",
       "    </tr>\n",
       "  </tbody>\n",
       "</table>\n",
       "</div>"
      ],
      "text/plain": [
       "                                                Text  Emotion  Label\n",
       "0  i was feeling rather cranky cos i was thinking...    anger      1\n",
       "1  i came out of the airport that makes me feel i...    anger      1\n",
       "2  i feel dirty watching this series and you can ...  sadness      0\n",
       "3                                 He was so miserabl  sadness      0\n",
       "4                      i feel like a moronic bastard  sadness      0"
      ]
     },
     "execution_count": 1,
     "metadata": {},
     "output_type": "execute_result"
    }
   ],
   "source": [
    "import pandas as pd\n",
    "\n",
    "df_train = pd.read_csv(\"../data/emotions_train.csv\", sep=\",\")\n",
    "df_train.info()\n",
    "df_train.head()\n",
    "\n",
    "df_val = pd.read_csv(\"../data/emotions_val.csv\", sep=\",\")\n",
    "df_val.info()\n",
    "df_val.head()\n",
    "\n",
    "df_test = pd.read_csv(\"../data/emotions_test.csv\", sep=\",\")\n",
    "df_test.info()\n",
    "df_test.head()"
   ]
  },
  {
   "cell_type": "markdown",
   "id": "e5b0ba48-2b25-408d-bdf6-80967c8f3bbc",
   "metadata": {},
   "source": [
    "## Preprocess\n",
    "\n",
    "Mivel a szövegek alapvetőleg elég jól elő voltak készítve (lowercased) így én egy nagyon leegyszerűsített előkészítést végeztem el rajta. Ez az előlészítés a tokenizálásból illetve e a stopword eltávolításból áll."
   ]
  },
  {
   "cell_type": "code",
   "execution_count": 2,
   "id": "514d707f-7db6-41fe-8516-b3efaf5225ec",
   "metadata": {},
   "outputs": [
    {
     "name": "stdout",
     "output_type": "stream",
     "text": [
      "['feel', 'curious', 'impatient', 'eager', 'confused']\n"
     ]
    }
   ],
   "source": [
    "import nltk\n",
    "from nltk.corpus import stopwords\n",
    "from nltk.tokenize import word_tokenize\n",
    "import string\n",
    "\n",
    "STOPWORDS = stopwords.words(\"english\")\n",
    "\n",
    "def tokenize_sentence(sentence):\n",
    "    return word_tokenize(sentence.lower())\n",
    "\n",
    "def remove_stopwords(sentence):\n",
    "    return \" \".join([word for word in sentence.split(\" \") if not word in STOPWORDS])\n",
    "\n",
    "def preprocess(sentence):\n",
    "    return tokenize_sentence(remove_stopwords(sentence))\n",
    "\n",
    "print(preprocess(df_train[\"Text\"].values[1]))"
   ]
  },
  {
   "cell_type": "markdown",
   "id": "ae283e13-9568-4f65-a749-46f4a5700e2a",
   "metadata": {},
   "source": [
    "Láthatjuk, hogy néz ki az előkészített szöveg."
   ]
  },
  {
   "cell_type": "code",
   "execution_count": 3,
   "id": "90116774-9d6b-42e9-85a9-0e4a016884f5",
   "metadata": {},
   "outputs": [
    {
     "data": {
      "text/html": [
       "<div>\n",
       "<style scoped>\n",
       "    .dataframe tbody tr th:only-of-type {\n",
       "        vertical-align: middle;\n",
       "    }\n",
       "\n",
       "    .dataframe tbody tr th {\n",
       "        vertical-align: top;\n",
       "    }\n",
       "\n",
       "    .dataframe thead th {\n",
       "        text-align: right;\n",
       "    }\n",
       "</style>\n",
       "<table border=\"1\" class=\"dataframe\">\n",
       "  <thead>\n",
       "    <tr style=\"text-align: right;\">\n",
       "      <th></th>\n",
       "      <th>Text</th>\n",
       "      <th>Emotion</th>\n",
       "      <th>Label</th>\n",
       "    </tr>\n",
       "  </thead>\n",
       "  <tbody>\n",
       "    <tr>\n",
       "      <th>0</th>\n",
       "      <td>[feel, uptight, day, complete, hes, around, fe...</td>\n",
       "      <td>fear</td>\n",
       "      <td>4</td>\n",
       "    </tr>\n",
       "    <tr>\n",
       "      <th>1</th>\n",
       "      <td>[feel, curious, impatient, eager, confused]</td>\n",
       "      <td>surprise</td>\n",
       "      <td>3</td>\n",
       "    </tr>\n",
       "    <tr>\n",
       "      <th>2</th>\n",
       "      <td>[transgender, brainwashing, attempt, making, f...</td>\n",
       "      <td>sadness</td>\n",
       "      <td>0</td>\n",
       "    </tr>\n",
       "    <tr>\n",
       "      <th>3</th>\n",
       "      <td>[like, products, organic, feel, assured, added...</td>\n",
       "      <td>happy</td>\n",
       "      <td>5</td>\n",
       "    </tr>\n",
       "    <tr>\n",
       "      <th>4</th>\n",
       "      <td>[feel, bothered, getting, credit, equals, gett...</td>\n",
       "      <td>anger</td>\n",
       "      <td>1</td>\n",
       "    </tr>\n",
       "  </tbody>\n",
       "</table>\n",
       "</div>"
      ],
      "text/plain": [
       "                                                Text   Emotion  Label\n",
       "0  [feel, uptight, day, complete, hes, around, fe...      fear      4\n",
       "1        [feel, curious, impatient, eager, confused]  surprise      3\n",
       "2  [transgender, brainwashing, attempt, making, f...   sadness      0\n",
       "3  [like, products, organic, feel, assured, added...     happy      5\n",
       "4  [feel, bothered, getting, credit, equals, gett...     anger      1"
      ]
     },
     "execution_count": 3,
     "metadata": {},
     "output_type": "execute_result"
    }
   ],
   "source": [
    "df_train[\"Text\"] = df_train[\"Text\"].apply(preprocess)\n",
    "df_train.head()"
   ]
  },
  {
   "cell_type": "markdown",
   "id": "973a80c6-fc20-46ba-9156-646f7122ae51",
   "metadata": {},
   "source": [
    "A tokenizált szövegből szótárt képzünk."
   ]
  },
  {
   "cell_type": "code",
   "execution_count": 4,
   "id": "5df95691-6f68-4c78-aa79-affcaa6f1991",
   "metadata": {},
   "outputs": [],
   "source": [
    "def build_vocab(tokenized_input, vocab_size):\n",
    "    d = dict()\n",
    "\n",
    "    for tokens in tokenized_input:\n",
    "        for token in tokens:\n",
    "            # double check\n",
    "            if token not in STOPWORDS and token.isalpha():\n",
    "                d[token] = d.get(token, 0) + 1\n",
    "    #del d[\"br\"]\n",
    "    return {k for k, v in sorted(d.items(), key=lambda item: item[1], reverse=True)[:vocab_size]}"
   ]
  },
  {
   "cell_type": "code",
   "execution_count": 5,
   "id": "c274ea9f-35b0-4d5b-b435-8ff881848fb7",
   "metadata": {},
   "outputs": [],
   "source": [
    "VOCAB_SIZE = 10000\n",
    "VOCAB = build_vocab(df_train[\"Text\"].values, VOCAB_SIZE)\n",
    "#print(VOCAB)"
   ]
  },
  {
   "cell_type": "code",
   "execution_count": 6,
   "id": "c16c523f-f08c-40e7-adcc-957a4227dec2",
   "metadata": {},
   "outputs": [
    {
     "name": "stdout",
     "output_type": "stream",
     "text": [
      "['fear' 'surprise' 'sadness' 'happy' 'anger' 'love']\n"
     ]
    }
   ],
   "source": [
    "LABELS = df_train[\"Emotion\"].unique()\n",
    "LABELS\n",
    "print(LABELS)"
   ]
  },
  {
   "cell_type": "markdown",
   "id": "bd8498c7-7d2c-4002-9739-cc6c1797e453",
   "metadata": {},
   "source": [
    "Előállítjuk a \"Freqency table\"-t."
   ]
  },
  {
   "cell_type": "code",
   "execution_count": 7,
   "id": "ce2a72db-3dfa-4788-9be2-18a1e6f0e295",
   "metadata": {},
   "outputs": [],
   "source": [
    "def get_frequencies_for_labels(df):\n",
    "    dict_freqs = {label: {} for label in LABELS}\n",
    "\n",
    "    for idx in range(df.shape[0]):\n",
    "        tokens = df.iloc[idx, 0]\n",
    "        label = df.iloc[idx, 1]\n",
    "        \n",
    "        for token in set(tokens):\n",
    "            if token in VOCAB:\n",
    "                dict_freqs[label][token] = dict_freqs[label].get(token, 0) + 1\n",
    "            \n",
    "\n",
    "    return dict_freqs"
   ]
  },
  {
   "cell_type": "code",
   "execution_count": 8,
   "id": "b42cbbcf-21cd-4eda-b9d4-38689a8e5615",
   "metadata": {},
   "outputs": [],
   "source": [
    "frequency_table = get_frequencies_for_labels(df_train)"
   ]
  },
  {
   "cell_type": "code",
   "execution_count": 9,
   "id": "0b9e3d87-e909-4265-a9e3-18dd8d151d16",
   "metadata": {},
   "outputs": [
    {
     "data": {
      "text/plain": [
       "27"
      ]
     },
     "execution_count": 9,
     "metadata": {},
     "output_type": "execute_result"
    }
   ],
   "source": [
    "#print(frequency_table)\n",
    "frequency_table[\"anger\"][\"friend\"]"
   ]
  },
  {
   "cell_type": "code",
   "execution_count": 10,
   "id": "b44ebc78-4163-4ce9-a04b-30700af2ca5b",
   "metadata": {},
   "outputs": [],
   "source": [
    "import numpy as np\n",
    "\n",
    "def extract_features(frequency_table, tweet_tokens):\n",
    "    label_frequencies = {label: 0 for label in LABELS}\n",
    "\n",
    "    for t in tweet_tokens:\n",
    "        for label in LABELS:\n",
    "            label_frequencies[label] += frequency_table[label].get(t, 0)\n",
    "    \n",
    "    return pd.Series(label_frequencies)"
   ]
  },
  {
   "cell_type": "markdown",
   "id": "b1bccc6c-968d-48bf-8f7e-dfbe49a92b4e",
   "metadata": {},
   "source": [
    "Ezt követően előkészítjük a logisztikus regressziós modellhez az X és Y értékeket. Az X igazából a tokenizált szövegekből előállított gyakorási táblázatból áll elő míg az Y a címkékből ami az egyes osztályokat jelöli."
   ]
  },
  {
   "cell_type": "code",
   "execution_count": 11,
   "id": "b36d3a45-1aeb-4c46-b57b-345315782e44",
   "metadata": {},
   "outputs": [
    {
     "data": {
      "text/html": [
       "<div>\n",
       "<style scoped>\n",
       "    .dataframe tbody tr th:only-of-type {\n",
       "        vertical-align: middle;\n",
       "    }\n",
       "\n",
       "    .dataframe tbody tr th {\n",
       "        vertical-align: top;\n",
       "    }\n",
       "\n",
       "    .dataframe thead th {\n",
       "        text-align: right;\n",
       "    }\n",
       "</style>\n",
       "<table border=\"1\" class=\"dataframe\">\n",
       "  <thead>\n",
       "    <tr style=\"text-align: right;\">\n",
       "      <th></th>\n",
       "      <th>fear</th>\n",
       "      <th>surprise</th>\n",
       "      <th>sadness</th>\n",
       "      <th>happy</th>\n",
       "      <th>anger</th>\n",
       "      <th>love</th>\n",
       "    </tr>\n",
       "  </thead>\n",
       "  <tbody>\n",
       "    <tr>\n",
       "      <th>0</th>\n",
       "      <td>2288</td>\n",
       "      <td>766</td>\n",
       "      <td>5762</td>\n",
       "      <td>6719</td>\n",
       "      <td>2654</td>\n",
       "      <td>1511</td>\n",
       "    </tr>\n",
       "    <tr>\n",
       "      <th>1</th>\n",
       "      <td>981</td>\n",
       "      <td>381</td>\n",
       "      <td>2523</td>\n",
       "      <td>2989</td>\n",
       "      <td>1199</td>\n",
       "      <td>672</td>\n",
       "    </tr>\n",
       "    <tr>\n",
       "      <th>2</th>\n",
       "      <td>1241</td>\n",
       "      <td>417</td>\n",
       "      <td>3220</td>\n",
       "      <td>3684</td>\n",
       "      <td>1475</td>\n",
       "      <td>840</td>\n",
       "    </tr>\n",
       "    <tr>\n",
       "      <th>3</th>\n",
       "      <td>1182</td>\n",
       "      <td>408</td>\n",
       "      <td>3261</td>\n",
       "      <td>3873</td>\n",
       "      <td>1533</td>\n",
       "      <td>927</td>\n",
       "    </tr>\n",
       "    <tr>\n",
       "      <th>4</th>\n",
       "      <td>983</td>\n",
       "      <td>329</td>\n",
       "      <td>2604</td>\n",
       "      <td>3053</td>\n",
       "      <td>1277</td>\n",
       "      <td>704</td>\n",
       "    </tr>\n",
       "    <tr>\n",
       "      <th>...</th>\n",
       "      <td>...</td>\n",
       "      <td>...</td>\n",
       "      <td>...</td>\n",
       "      <td>...</td>\n",
       "      <td>...</td>\n",
       "      <td>...</td>\n",
       "    </tr>\n",
       "    <tr>\n",
       "      <th>12870</th>\n",
       "      <td>1039</td>\n",
       "      <td>351</td>\n",
       "      <td>2700</td>\n",
       "      <td>3254</td>\n",
       "      <td>1246</td>\n",
       "      <td>724</td>\n",
       "    </tr>\n",
       "    <tr>\n",
       "      <th>12871</th>\n",
       "      <td>952</td>\n",
       "      <td>322</td>\n",
       "      <td>2519</td>\n",
       "      <td>3004</td>\n",
       "      <td>1159</td>\n",
       "      <td>673</td>\n",
       "    </tr>\n",
       "    <tr>\n",
       "      <th>12872</th>\n",
       "      <td>740</td>\n",
       "      <td>255</td>\n",
       "      <td>1604</td>\n",
       "      <td>1784</td>\n",
       "      <td>760</td>\n",
       "      <td>397</td>\n",
       "    </tr>\n",
       "    <tr>\n",
       "      <th>12873</th>\n",
       "      <td>973</td>\n",
       "      <td>301</td>\n",
       "      <td>1953</td>\n",
       "      <td>1911</td>\n",
       "      <td>977</td>\n",
       "      <td>450</td>\n",
       "    </tr>\n",
       "    <tr>\n",
       "      <th>12874</th>\n",
       "      <td>1081</td>\n",
       "      <td>352</td>\n",
       "      <td>2549</td>\n",
       "      <td>2685</td>\n",
       "      <td>1219</td>\n",
       "      <td>716</td>\n",
       "    </tr>\n",
       "  </tbody>\n",
       "</table>\n",
       "<p>12875 rows × 6 columns</p>\n",
       "</div>"
      ],
      "text/plain": [
       "       fear  surprise  sadness  happy  anger  love\n",
       "0      2288       766     5762   6719   2654  1511\n",
       "1       981       381     2523   2989   1199   672\n",
       "2      1241       417     3220   3684   1475   840\n",
       "3      1182       408     3261   3873   1533   927\n",
       "4       983       329     2604   3053   1277   704\n",
       "...     ...       ...      ...    ...    ...   ...\n",
       "12870  1039       351     2700   3254   1246   724\n",
       "12871   952       322     2519   3004   1159   673\n",
       "12872   740       255     1604   1784    760   397\n",
       "12873   973       301     1953   1911    977   450\n",
       "12874  1081       352     2549   2685   1219   716\n",
       "\n",
       "[12875 rows x 6 columns]"
      ]
     },
     "execution_count": 11,
     "metadata": {},
     "output_type": "execute_result"
    }
   ],
   "source": [
    "X_train_logistic = df_train[\"Text\"].apply(lambda tokens: extract_features(frequency_table, tokens))"
   ]
  },
  {
   "cell_type": "code",
   "execution_count": 12,
   "id": "9da39286-54b2-4746-9cce-5aebf5a007e5",
   "metadata": {},
   "outputs": [
    {
     "data": {
      "text/plain": [
       "array(['fear', 'surprise', 'sadness', ..., 'happy', 'anger', 'love'],\n",
       "      dtype=object)"
      ]
     },
     "execution_count": 12,
     "metadata": {},
     "output_type": "execute_result"
    }
   ],
   "source": [
    "y_train_logistic = df_train[\"Emotion\"].values\n",
    "y_train_logistic"
   ]
  },
  {
   "cell_type": "markdown",
   "id": "e90363c8-3976-4a83-8e6e-c7b814dfc6b9",
   "metadata": {},
   "source": [
    "A logisztikus regressziós modell használatával a ```.fit()``` két paramétereként átadjuk a korábban előállított  ```X_train_logistic``` és ```y_train_logistic```-t és elkezdődhet a tanítattás."
   ]
  },
  {
   "cell_type": "code",
   "execution_count": 20,
   "id": "0a1a9a15-97dd-48e6-a458-63fe599f5253",
   "metadata": {},
   "outputs": [],
   "source": [
    "from sklearn.linear_model import LogisticRegression\n",
    "\n",
    "clf = LogisticRegression(random_state=0, max_iter=12000).fit(X_train_logistic, y_train_logistic)"
   ]
  },
  {
   "cell_type": "markdown",
   "id": "ca19d111-d412-4e3b-bcd4-b2a206f44303",
   "metadata": {},
   "source": [
    "A továbbiakban pedig különböző értékek vizsgálatával ellenőrizhetjük a modell sikerességét."
   ]
  },
  {
   "cell_type": "code",
   "execution_count": 21,
   "id": "eb75f21c-690e-4eba-bac1-c4dde18f1065",
   "metadata": {},
   "outputs": [
    {
     "name": "stdout",
     "output_type": "stream",
     "text": [
      "Train accuracy: 0.718757281553398\n",
      "['fear' 'surprise' 'sadness' ... 'happy' 'anger' 'love']\n"
     ]
    }
   ],
   "source": [
    "from sklearn.metrics import accuracy_score\n",
    "\n",
    "preds_train = clf.predict(X_train_logistic)\n",
    "\n",
    "print(\"Train accuracy:\", accuracy_score(y_train_logistic, preds_train))\n",
    "print(preds_train)"
   ]
  },
  {
   "cell_type": "code",
   "execution_count": 22,
   "id": "34ab205c-1c97-46c3-9b91-108d8c95915c",
   "metadata": {},
   "outputs": [
    {
     "data": {
      "text/html": [
       "<div>\n",
       "<style scoped>\n",
       "    .dataframe tbody tr th:only-of-type {\n",
       "        vertical-align: middle;\n",
       "    }\n",
       "\n",
       "    .dataframe tbody tr th {\n",
       "        vertical-align: top;\n",
       "    }\n",
       "\n",
       "    .dataframe thead th {\n",
       "        text-align: right;\n",
       "    }\n",
       "</style>\n",
       "<table border=\"1\" class=\"dataframe\">\n",
       "  <thead>\n",
       "    <tr style=\"text-align: right;\">\n",
       "      <th></th>\n",
       "      <th>fear</th>\n",
       "      <th>surprise</th>\n",
       "      <th>sadness</th>\n",
       "      <th>happy</th>\n",
       "      <th>anger</th>\n",
       "      <th>love</th>\n",
       "    </tr>\n",
       "  </thead>\n",
       "  <tbody>\n",
       "    <tr>\n",
       "      <th>0</th>\n",
       "      <td>65</td>\n",
       "      <td>40</td>\n",
       "      <td>127</td>\n",
       "      <td>188</td>\n",
       "      <td>51</td>\n",
       "      <td>47</td>\n",
       "    </tr>\n",
       "    <tr>\n",
       "      <th>1</th>\n",
       "      <td>29</td>\n",
       "      <td>17</td>\n",
       "      <td>71</td>\n",
       "      <td>103</td>\n",
       "      <td>24</td>\n",
       "      <td>23</td>\n",
       "    </tr>\n",
       "    <tr>\n",
       "      <th>2</th>\n",
       "      <td>92</td>\n",
       "      <td>67</td>\n",
       "      <td>319</td>\n",
       "      <td>379</td>\n",
       "      <td>144</td>\n",
       "      <td>77</td>\n",
       "    </tr>\n",
       "    <tr>\n",
       "      <th>3</th>\n",
       "      <td>36</td>\n",
       "      <td>24</td>\n",
       "      <td>78</td>\n",
       "      <td>106</td>\n",
       "      <td>34</td>\n",
       "      <td>19</td>\n",
       "    </tr>\n",
       "    <tr>\n",
       "      <th>4</th>\n",
       "      <td>17</td>\n",
       "      <td>14</td>\n",
       "      <td>51</td>\n",
       "      <td>61</td>\n",
       "      <td>24</td>\n",
       "      <td>12</td>\n",
       "    </tr>\n",
       "    <tr>\n",
       "      <th>...</th>\n",
       "      <td>...</td>\n",
       "      <td>...</td>\n",
       "      <td>...</td>\n",
       "      <td>...</td>\n",
       "      <td>...</td>\n",
       "      <td>...</td>\n",
       "    </tr>\n",
       "    <tr>\n",
       "      <th>4287</th>\n",
       "      <td>33</td>\n",
       "      <td>19</td>\n",
       "      <td>71</td>\n",
       "      <td>103</td>\n",
       "      <td>35</td>\n",
       "      <td>24</td>\n",
       "    </tr>\n",
       "    <tr>\n",
       "      <th>4288</th>\n",
       "      <td>25</td>\n",
       "      <td>19</td>\n",
       "      <td>54</td>\n",
       "      <td>72</td>\n",
       "      <td>15</td>\n",
       "      <td>18</td>\n",
       "    </tr>\n",
       "    <tr>\n",
       "      <th>4289</th>\n",
       "      <td>121</td>\n",
       "      <td>83</td>\n",
       "      <td>274</td>\n",
       "      <td>333</td>\n",
       "      <td>94</td>\n",
       "      <td>70</td>\n",
       "    </tr>\n",
       "    <tr>\n",
       "      <th>4290</th>\n",
       "      <td>39</td>\n",
       "      <td>26</td>\n",
       "      <td>87</td>\n",
       "      <td>125</td>\n",
       "      <td>18</td>\n",
       "      <td>29</td>\n",
       "    </tr>\n",
       "    <tr>\n",
       "      <th>4291</th>\n",
       "      <td>44</td>\n",
       "      <td>35</td>\n",
       "      <td>137</td>\n",
       "      <td>173</td>\n",
       "      <td>72</td>\n",
       "      <td>35</td>\n",
       "    </tr>\n",
       "  </tbody>\n",
       "</table>\n",
       "<p>4292 rows × 6 columns</p>\n",
       "</div>"
      ],
      "text/plain": [
       "      fear  surprise  sadness  happy  anger  love\n",
       "0       65        40      127    188     51    47\n",
       "1       29        17       71    103     24    23\n",
       "2       92        67      319    379    144    77\n",
       "3       36        24       78    106     34    19\n",
       "4       17        14       51     61     24    12\n",
       "...    ...       ...      ...    ...    ...   ...\n",
       "4287    33        19       71    103     35    24\n",
       "4288    25        19       54     72     15    18\n",
       "4289   121        83      274    333     94    70\n",
       "4290    39        26       87    125     18    29\n",
       "4291    44        35      137    173     72    35\n",
       "\n",
       "[4292 rows x 6 columns]"
      ]
     },
     "execution_count": 22,
     "metadata": {},
     "output_type": "execute_result"
    }
   ],
   "source": [
    "X_val = df_val[\"Text\"].apply(preprocess)\n",
    "X_val_logistic = df_val[\"Text\"].apply(lambda tokens: extract_features(frequency_table, tokens))\n",
    "y_val_logistic = df_val[\"Emotion\"].values\n",
    "X_val_logistic"
   ]
  },
  {
   "cell_type": "code",
   "execution_count": 23,
   "id": "35292269-9e42-4a42-9a39-45ee2cbea79b",
   "metadata": {},
   "outputs": [
    {
     "name": "stdout",
     "output_type": "stream",
     "text": [
      "Validation accuracy: 0.30242311276794037\n"
     ]
    }
   ],
   "source": [
    "preds_val = clf.predict(X_val_logistic)\n",
    "\n",
    "print(\"Validation accuracy:\", accuracy_score(y_val_logistic, preds_val))"
   ]
  },
  {
   "cell_type": "code",
   "execution_count": 24,
   "id": "61c4f7b4-9966-4923-91f0-8ab61bed5492",
   "metadata": {},
   "outputs": [
    {
     "data": {
      "text/html": [
       "<div>\n",
       "<style scoped>\n",
       "    .dataframe tbody tr th:only-of-type {\n",
       "        vertical-align: middle;\n",
       "    }\n",
       "\n",
       "    .dataframe tbody tr th {\n",
       "        vertical-align: top;\n",
       "    }\n",
       "\n",
       "    .dataframe thead th {\n",
       "        text-align: right;\n",
       "    }\n",
       "</style>\n",
       "<table border=\"1\" class=\"dataframe\">\n",
       "  <thead>\n",
       "    <tr style=\"text-align: right;\">\n",
       "      <th></th>\n",
       "      <th>fear</th>\n",
       "      <th>surprise</th>\n",
       "      <th>sadness</th>\n",
       "      <th>happy</th>\n",
       "      <th>anger</th>\n",
       "      <th>love</th>\n",
       "    </tr>\n",
       "  </thead>\n",
       "  <tbody>\n",
       "    <tr>\n",
       "      <th>0</th>\n",
       "      <td>29</td>\n",
       "      <td>19</td>\n",
       "      <td>81</td>\n",
       "      <td>115</td>\n",
       "      <td>44</td>\n",
       "      <td>19</td>\n",
       "    </tr>\n",
       "    <tr>\n",
       "      <th>1</th>\n",
       "      <td>38</td>\n",
       "      <td>28</td>\n",
       "      <td>106</td>\n",
       "      <td>123</td>\n",
       "      <td>47</td>\n",
       "      <td>22</td>\n",
       "    </tr>\n",
       "    <tr>\n",
       "      <th>2</th>\n",
       "      <td>46</td>\n",
       "      <td>34</td>\n",
       "      <td>111</td>\n",
       "      <td>146</td>\n",
       "      <td>38</td>\n",
       "      <td>32</td>\n",
       "    </tr>\n",
       "    <tr>\n",
       "      <th>3</th>\n",
       "      <td>4</td>\n",
       "      <td>4</td>\n",
       "      <td>17</td>\n",
       "      <td>22</td>\n",
       "      <td>11</td>\n",
       "      <td>3</td>\n",
       "    </tr>\n",
       "    <tr>\n",
       "      <th>4</th>\n",
       "      <td>11</td>\n",
       "      <td>9</td>\n",
       "      <td>32</td>\n",
       "      <td>38</td>\n",
       "      <td>16</td>\n",
       "      <td>4</td>\n",
       "    </tr>\n",
       "    <tr>\n",
       "      <th>...</th>\n",
       "      <td>...</td>\n",
       "      <td>...</td>\n",
       "      <td>...</td>\n",
       "      <td>...</td>\n",
       "      <td>...</td>\n",
       "      <td>...</td>\n",
       "    </tr>\n",
       "    <tr>\n",
       "      <th>4287</th>\n",
       "      <td>23</td>\n",
       "      <td>11</td>\n",
       "      <td>43</td>\n",
       "      <td>44</td>\n",
       "      <td>12</td>\n",
       "      <td>12</td>\n",
       "    </tr>\n",
       "    <tr>\n",
       "      <th>4288</th>\n",
       "      <td>42</td>\n",
       "      <td>37</td>\n",
       "      <td>136</td>\n",
       "      <td>164</td>\n",
       "      <td>55</td>\n",
       "      <td>34</td>\n",
       "    </tr>\n",
       "    <tr>\n",
       "      <th>4289</th>\n",
       "      <td>85</td>\n",
       "      <td>48</td>\n",
       "      <td>188</td>\n",
       "      <td>246</td>\n",
       "      <td>73</td>\n",
       "      <td>55</td>\n",
       "    </tr>\n",
       "    <tr>\n",
       "      <th>4290</th>\n",
       "      <td>44</td>\n",
       "      <td>34</td>\n",
       "      <td>123</td>\n",
       "      <td>141</td>\n",
       "      <td>66</td>\n",
       "      <td>26</td>\n",
       "    </tr>\n",
       "    <tr>\n",
       "      <th>4291</th>\n",
       "      <td>40</td>\n",
       "      <td>40</td>\n",
       "      <td>159</td>\n",
       "      <td>206</td>\n",
       "      <td>70</td>\n",
       "      <td>40</td>\n",
       "    </tr>\n",
       "  </tbody>\n",
       "</table>\n",
       "<p>4292 rows × 6 columns</p>\n",
       "</div>"
      ],
      "text/plain": [
       "      fear  surprise  sadness  happy  anger  love\n",
       "0       29        19       81    115     44    19\n",
       "1       38        28      106    123     47    22\n",
       "2       46        34      111    146     38    32\n",
       "3        4         4       17     22     11     3\n",
       "4       11         9       32     38     16     4\n",
       "...    ...       ...      ...    ...    ...   ...\n",
       "4287    23        11       43     44     12    12\n",
       "4288    42        37      136    164     55    34\n",
       "4289    85        48      188    246     73    55\n",
       "4290    44        34      123    141     66    26\n",
       "4291    40        40      159    206     70    40\n",
       "\n",
       "[4292 rows x 6 columns]"
      ]
     },
     "execution_count": 24,
     "metadata": {},
     "output_type": "execute_result"
    }
   ],
   "source": [
    "X_test = df_test[\"Text\"].apply(preprocess)\n",
    "X_test_logistic = df_test[\"Text\"].apply(lambda tokens: extract_features(frequency_table, tokens))\n",
    "y_test_logistic = df_test[\"Emotion\"].values\n",
    "X_test_logistic"
   ]
  },
  {
   "cell_type": "code",
   "execution_count": 25,
   "id": "72a0fa6e-c2f5-45ed-be0a-9ce90c9c691e",
   "metadata": {},
   "outputs": [
    {
     "name": "stdout",
     "output_type": "stream",
     "text": [
      "Test accuracy: 0.2982292637465051\n"
     ]
    }
   ],
   "source": [
    "preds_test = clf.predict(X_test_logistic)\n",
    "\n",
    "print(\"Test accuracy:\", accuracy_score(y_test_logistic, preds_test))"
   ]
  },
  {
   "cell_type": "code",
   "execution_count": null,
   "id": "108a5bbd-e6be-459d-bacf-f99a0ccc153f",
   "metadata": {},
   "outputs": [],
   "source": []
  }
 ],
 "metadata": {
  "kernelspec": {
   "display_name": "Python 3 (ipykernel)",
   "language": "python",
   "name": "python3"
  },
  "language_info": {
   "codemirror_mode": {
    "name": "ipython",
    "version": 3
   },
   "file_extension": ".py",
   "mimetype": "text/x-python",
   "name": "python",
   "nbconvert_exporter": "python",
   "pygments_lexer": "ipython3",
   "version": "3.9.12"
  }
 },
 "nbformat": 4,
 "nbformat_minor": 5
}
