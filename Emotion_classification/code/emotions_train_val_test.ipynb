{
 "cells": [
  {
   "cell_type": "markdown",
   "id": "58a488eb-47ec-426e-9acf-31ee931d3353",
   "metadata": {
    "tags": []
   },
   "source": [
    "# Data split: Adathalmaz szétválasztása training, validatation és test adathalmazokra\n",
    "A feladat megoldásához a következő adathalmazt használtam: https://www.kaggle.com/datasets/ishantjuyal/emotions-in-text\n",
    "\n",
    "Ugyanarra a problémára három megoldást készítettem, használtam logisztikus regressziót, klasszikus neurális hálót és konvolúciós neurális hálót."
   ]
  },
  {
   "cell_type": "markdown",
   "id": "da50ab22-72ab-423c-8c7d-a2426a298e20",
   "metadata": {},
   "source": [
    "Első lépésként beolvasom a letöltött adathalmazt, ami CSV formátumban van."
   ]
  },
  {
   "cell_type": "code",
   "execution_count": 23,
   "id": "939ac471-dc4f-4815-9aac-c2d256af9ca3",
   "metadata": {},
   "outputs": [
    {
     "data": {
      "text/html": [
       "<div>\n",
       "<style scoped>\n",
       "    .dataframe tbody tr th:only-of-type {\n",
       "        vertical-align: middle;\n",
       "    }\n",
       "\n",
       "    .dataframe tbody tr th {\n",
       "        vertical-align: top;\n",
       "    }\n",
       "\n",
       "    .dataframe thead th {\n",
       "        text-align: right;\n",
       "    }\n",
       "</style>\n",
       "<table border=\"1\" class=\"dataframe\">\n",
       "  <thead>\n",
       "    <tr style=\"text-align: right;\">\n",
       "      <th></th>\n",
       "      <th>Text</th>\n",
       "      <th>Emotion</th>\n",
       "    </tr>\n",
       "  </thead>\n",
       "  <tbody>\n",
       "    <tr>\n",
       "      <th>0</th>\n",
       "      <td>i didnt feel humiliated</td>\n",
       "      <td>sadness</td>\n",
       "    </tr>\n",
       "    <tr>\n",
       "      <th>1</th>\n",
       "      <td>i can go from feeling so hopeless to so damned...</td>\n",
       "      <td>sadness</td>\n",
       "    </tr>\n",
       "    <tr>\n",
       "      <th>2</th>\n",
       "      <td>im grabbing a minute to post i feel greedy wrong</td>\n",
       "      <td>anger</td>\n",
       "    </tr>\n",
       "    <tr>\n",
       "      <th>3</th>\n",
       "      <td>i am ever feeling nostalgic about the fireplac...</td>\n",
       "      <td>love</td>\n",
       "    </tr>\n",
       "    <tr>\n",
       "      <th>4</th>\n",
       "      <td>i am feeling grouchy</td>\n",
       "      <td>anger</td>\n",
       "    </tr>\n",
       "  </tbody>\n",
       "</table>\n",
       "</div>"
      ],
      "text/plain": [
       "                                                Text  Emotion\n",
       "0                            i didnt feel humiliated  sadness\n",
       "1  i can go from feeling so hopeless to so damned...  sadness\n",
       "2   im grabbing a minute to post i feel greedy wrong    anger\n",
       "3  i am ever feeling nostalgic about the fireplac...     love\n",
       "4                               i am feeling grouchy    anger"
      ]
     },
     "execution_count": 23,
     "metadata": {},
     "output_type": "execute_result"
    }
   ],
   "source": [
    "import pandas as pd\n",
    "\n",
    "df = pd.read_csv(\"../data/Emotion_final.csv\", sep=\",\")\n",
    "df.head(5)"
   ]
  },
  {
   "cell_type": "markdown",
   "id": "234d2b6b-bc06-4745-862c-3b3a76501e51",
   "metadata": {},
   "source": [
    "Kiszámoljuk milyen méretűek legyenek 60-20-20 arányban elkészítve a az adathalmazok."
   ]
  },
  {
   "cell_type": "code",
   "execution_count": 24,
   "id": "1524aec8-0007-44d2-ab1b-e18fec4db9fd",
   "metadata": {},
   "outputs": [
    {
     "name": "stdout",
     "output_type": "stream",
     "text": [
      "21459\n",
      "12875\n",
      "4292\n"
     ]
    }
   ],
   "source": [
    "len_df = len(df)\n",
    "print(len_df)\n",
    "\n",
    "len_train = int(round(len_df * 0.6))\n",
    "len_val_test = (len_df - len_train) // 2\n",
    "\n",
    "print(len_train)\n",
    "print(len_val_test)"
   ]
  },
  {
   "cell_type": "markdown",
   "id": "32ece004-3961-487b-a031-0ba8f6315fe6",
   "metadata": {},
   "source": [
    "Mivel az osztályok nem egyenlő arányban fordulnak elő az adathalmazban szerettem volna, hogy az új adathalmazokban ugyanebban az arányban jelenjenek meg a különböző osztályok mint ahogyan a teljes adathalmazban. Először így ki kellett derítenem, hogy pontosak milyen osztályok lesznek. Ezt úgy csináltam hogy az \"Emotion\" alatti értékek mindegyikét egy listába tettem és minden előforduló különböző értéket egyszer jelenítettem meg. Így megtudtam hogy összesen 6 osztály lesz és pontosan melyek ezek."
   ]
  },
  {
   "cell_type": "code",
   "execution_count": 25,
   "id": "d199085d-7d75-47de-b0b9-e877a59039ab",
   "metadata": {},
   "outputs": [
    {
     "name": "stdout",
     "output_type": "stream",
     "text": [
      "['sadness', 'anger', 'love', 'surprise', 'fear', 'happy']\n"
     ]
    }
   ],
   "source": [
    "emotion_category_list = df['Emotion'].tolist()\n",
    "emotion_category_list = list(dict.fromkeys(emotion_category_list))\n",
    "print(emotion_category_list)"
   ]
  },
  {
   "cell_type": "markdown",
   "id": "14613c0c-65f0-406e-9902-21554276e6af",
   "metadata": {},
   "source": [
    "Az egész adathalmazt 6 db kisebbre bontottam az \"Emotion\" értékei szerint szétválasztva. Ezután létrehoztam üres listákat amelyekbe a 3 cél dataframe-ben megjleneő osztályok számosságát fogja tartalmazni.\n",
    "Illetve a ```list_emotion_df``` lista tartalmazza a 6 osztályt amelyek jelenleg dataframe-ként vannak reprezentálva."
   ]
  },
  {
   "cell_type": "code",
   "execution_count": 26,
   "id": "a180615b-0a17-4be2-92c3-d3ae02cfdb48",
   "metadata": {},
   "outputs": [],
   "source": [
    "df_sadness = df.loc[df['Emotion'] == 'sadness'].copy()\n",
    "df_anger = df.loc[df['Emotion'] == 'anger'].copy()\n",
    "df_love = df.loc[df['Emotion'] == 'love'].copy()\n",
    "df_surprise = df.loc[df['Emotion'] == 'surprise'].copy()\n",
    "df_fear = df.loc[df['Emotion'] == 'fear'].copy()\n",
    "df_happy = df.loc[df['Emotion'] == 'happy'].copy()\n",
    "\n",
    "list_emotion_df = [df_sadness, df_anger, df_love, df_surprise, df_fear, df_happy]\n",
    "list_len_df = []\n",
    "list_len_train = []\n",
    "list_len_val = []\n",
    "list_len_test = []"
   ]
  },
  {
   "cell_type": "markdown",
   "id": "e6d2234c-9c4d-4f4e-9a71-fde042d4c4ee",
   "metadata": {},
   "source": [
    "Előállítjuk a train adathalmazban megjelenő osztályok számosságát."
   ]
  },
  {
   "cell_type": "code",
   "execution_count": 27,
   "id": "70bf9fab-4ab5-4917-87b5-1f68e58b7bab",
   "metadata": {},
   "outputs": [],
   "source": [
    "for item in list_emotion_df:\n",
    "    list_len_df.append(len(item))\n",
    "    list_len_train.append((round(len(item) * 0.6)))"
   ]
  },
  {
   "cell_type": "markdown",
   "id": "27a75388-5ea3-47f7-b872-c1f813d39d6f",
   "metadata": {},
   "source": [
    "Korrekció a szimmetrikus val és test adathalmazhoz, mivel volt egy minimális eltérés."
   ]
  },
  {
   "cell_type": "code",
   "execution_count": 28,
   "id": "7ef58bc5-3928-45d9-b3be-c2238a7e6bb3",
   "metadata": {},
   "outputs": [],
   "source": [
    "list_len_train[1] -= 1\n",
    "list_len_train[4] += 1"
   ]
  },
  {
   "cell_type": "markdown",
   "id": "3a018374-19c3-42ff-b6de-6fe9f64a98e5",
   "metadata": {},
   "source": [
    "Itt egy egyszerű kiíratás segítségével ellenőriztem, hogy jók lesznek-e az arányok."
   ]
  },
  {
   "cell_type": "code",
   "execution_count": 29,
   "id": "c59828fb-cae8-478a-950b-5ea7c4221328",
   "metadata": {},
   "outputs": [
    {
     "name": "stdout",
     "output_type": "stream",
     "text": [
      "[6265, 2993, 1641, 879, 2652, 7029]\n",
      "[3759, 1795, 985, 527, 1592, 4217]\n"
     ]
    }
   ],
   "source": [
    "print(list_len_df)\n",
    "print(list_len_train)"
   ]
  },
  {
   "cell_type": "markdown",
   "id": "8c0d2478-abca-4dda-b39c-d05a7c24de0f",
   "metadata": {},
   "source": [
    "A ```count_val_test()``` függvény segítségével fogjuk létrehozni az egész adathalmazban megjelenő osztályok arányaiban a valdiatation és a test adathalmazt is."
   ]
  },
  {
   "cell_type": "code",
   "execution_count": 30,
   "id": "2c29e30d-367d-4ac4-83a7-6737b63b8eaf",
   "metadata": {},
   "outputs": [],
   "source": [
    "def count_val_test(len_df, len_train):\n",
    "    len_val_test = (len_df - len_train) // 2\n",
    "    return len_val_test"
   ]
  },
  {
   "cell_type": "code",
   "execution_count": 31,
   "id": "57ec4195-4f93-4833-99c4-011e5f10d5aa",
   "metadata": {},
   "outputs": [],
   "source": [
    "for i in range(len(list_len_df)):\n",
    "    list_len_val.append(count_val_test(list_len_df[i], list_len_train[i]))\n",
    "    list_len_test.append(count_val_test(list_len_df[i], list_len_train[i]))"
   ]
  },
  {
   "cell_type": "markdown",
   "id": "07d0dc82-65d6-43ba-b6f1-9de6d55e49e6",
   "metadata": {},
   "source": [
    "Láthatjuk, hogy sikerült a test és validation dataframek-nek teljesen szimmetrikus szerkezetet előkészíteni."
   ]
  },
  {
   "cell_type": "code",
   "execution_count": 32,
   "id": "bbf20e40-00f6-4706-980d-38cb01f033be",
   "metadata": {},
   "outputs": [
    {
     "name": "stdout",
     "output_type": "stream",
     "text": [
      "[1253, 599, 328, 176, 530, 1406]\n",
      "[1253, 599, 328, 176, 530, 1406]\n"
     ]
    }
   ],
   "source": [
    "print(list_len_val)\n",
    "print(list_len_test)"
   ]
  },
  {
   "cell_type": "markdown",
   "id": "88c1891a-eea8-4f3f-94a4-e6307da00c67",
   "metadata": {},
   "source": [
    "Üres cél dataframe-ek létrehozása."
   ]
  },
  {
   "cell_type": "code",
   "execution_count": 33,
   "id": "cc5ef244-6642-4299-ba7f-e2af85760fb8",
   "metadata": {},
   "outputs": [],
   "source": [
    "list_df_train = []\n",
    "list_df_val = []\n",
    "list_df_test = []"
   ]
  },
  {
   "cell_type": "markdown",
   "id": "b8271b34-fec7-415e-88fb-dea8ccf166d3",
   "metadata": {},
   "source": [
    "Mivel mindegyik dataframe feltöltését az osztályok megfelelő arányú megjelenésével szerettem volna megvalósítani így a feltöltési folyamatot a train, test és val esetén is 6 alkalommal kellett volna külünböző értékekkel megtenni így írtam függvényeket ezeknek az elkészítéséhez. "
   ]
  },
  {
   "cell_type": "code",
   "execution_count": 34,
   "id": "6e84264a-399e-4f25-b88f-e6a28b24259e",
   "metadata": {},
   "outputs": [],
   "source": [
    "def fill_train_df(len_train, df_category):\n",
    "    df_train = pd.DataFrame()\n",
    "    df_train = df_category.iloc[0:len_train].copy()\n",
    "    return df_train\n",
    "\n",
    "def fill_val_df(len_val, len_train, df_category):\n",
    "    df_val = pd.DataFrame()\n",
    "    df_val = df_category.iloc[len_train:len_train+len_val].copy()\n",
    "    return df_val\n",
    "\n",
    "def fill_test_df(len_val, len_train, df_category):\n",
    "    df_test = pd.DataFrame()\n",
    "    df_test = df_category.iloc[len_train+len_val:].copy()\n",
    "    return df_test"
   ]
  },
  {
   "cell_type": "markdown",
   "id": "e905a7ea-b457-4b77-86f3-961602fd4ced",
   "metadata": {},
   "source": [
    "A for ciklusokon belül a fentebb említett függvények felhasználásával megtörténik a dataframe-ek feltöltése a megfelelő értékekkel."
   ]
  },
  {
   "cell_type": "code",
   "execution_count": 35,
   "id": "51a513ef-5c9d-4746-8951-99a751fc40a0",
   "metadata": {},
   "outputs": [],
   "source": [
    "for i in range(len(list_emotion_df)):\n",
    "    list_df_train.append(pd.DataFrame())\n",
    "    list_df_train[i] = fill_train_df(list_len_train[i], list_emotion_df[i])"
   ]
  },
  {
   "cell_type": "code",
   "execution_count": 36,
   "id": "1e76a830-378d-49be-aaa8-d6110bb10b82",
   "metadata": {},
   "outputs": [],
   "source": [
    "for i in range(len(list_emotion_df)):\n",
    "    list_df_val.append(pd.DataFrame())\n",
    "    list_df_val[i] = fill_val_df(list_len_val[i], list_len_train[i], list_emotion_df[i])"
   ]
  },
  {
   "cell_type": "code",
   "execution_count": 37,
   "id": "5d1f79e1-f369-45b9-b428-dde8feb37907",
   "metadata": {},
   "outputs": [],
   "source": [
    "for i in range(len(list_emotion_df)):\n",
    "    list_df_test.append(pd.DataFrame())\n",
    "    list_df_test[i] = fill_test_df(list_len_val[i], list_len_train[i], list_emotion_df[i])"
   ]
  },
  {
   "cell_type": "markdown",
   "id": "4409d9a5-5f4a-4a2b-9973-7ba8c2d8ffcb",
   "metadata": {},
   "source": [
    "A dataframe-eket tartalmazó listák elemeit egyesítem, hogy elkészüljön végre a három végleges dataframe illetve a tartalmukat össze is kell keverni mert jelenleg sorban vannak egymás után a különböző kategóriák."
   ]
  },
  {
   "cell_type": "code",
   "execution_count": 38,
   "id": "5e4ebaea-e869-4121-9e52-344e12c506fa",
   "metadata": {},
   "outputs": [
    {
     "name": "stdout",
     "output_type": "stream",
     "text": [
      "<class 'pandas.core.frame.DataFrame'>\n",
      "Int64Index: 12875 entries, 11197 to 4543\n",
      "Data columns (total 2 columns):\n",
      " #   Column   Non-Null Count  Dtype \n",
      "---  ------   --------------  ----- \n",
      " 0   Text     12875 non-null  object\n",
      " 1   Emotion  12875 non-null  object\n",
      "dtypes: object(2)\n",
      "memory usage: 301.8+ KB\n",
      "======================================================================\n",
      "<class 'pandas.core.frame.DataFrame'>\n",
      "Int64Index: 4292 entries, 14965 to 16058\n",
      "Data columns (total 2 columns):\n",
      " #   Column   Non-Null Count  Dtype \n",
      "---  ------   --------------  ----- \n",
      " 0   Text     4292 non-null   object\n",
      " 1   Emotion  4292 non-null   object\n",
      "dtypes: object(2)\n",
      "memory usage: 100.6+ KB\n",
      "======================================================================\n",
      "<class 'pandas.core.frame.DataFrame'>\n",
      "Int64Index: 4292 entries, 19290 to 21183\n",
      "Data columns (total 2 columns):\n",
      " #   Column   Non-Null Count  Dtype \n",
      "---  ------   --------------  ----- \n",
      " 0   Text     4292 non-null   object\n",
      " 1   Emotion  4292 non-null   object\n",
      "dtypes: object(2)\n",
      "memory usage: 100.6+ KB\n"
     ]
    }
   ],
   "source": [
    "df_train = pd.concat([list_df_train[0],\n",
    "                        list_df_train[1],\n",
    "                        list_df_train[2],\n",
    "                        list_df_train[3],\n",
    "                        list_df_train[4],\n",
    "                        list_df_train[5]])\n",
    "df_train = df_train.sample(frac=1)\n",
    "df_train.info()\n",
    "print('='*70)\n",
    "\n",
    "df_val = pd.concat([list_df_val[0],\n",
    "                       list_df_val[1],\n",
    "                       list_df_val[2],\n",
    "                       list_df_val[3],\n",
    "                       list_df_val[4],\n",
    "                       list_df_val[5]])\n",
    "\n",
    "df_val = df_val.sample(frac=1)\n",
    "df_val.info()\n",
    "print('='*70)\n",
    "\n",
    "df_test = pd.concat([list_df_test[0],\n",
    "                        list_df_test[1],\n",
    "                        list_df_test[2],\n",
    "                        list_df_test[3],\n",
    "                        list_df_test[4],\n",
    "                        list_df_test[5]])\n",
    "\n",
    "df_test = df_test.sample(frac=1)\n",
    "df_test.info()"
   ]
  },
  {
   "cell_type": "markdown",
   "id": "cdab95dc-d8ad-4eb8-abec-63f04cb60126",
   "metadata": {},
   "source": [
    "A neurális hálók esetén felmerült olyan probléma hogy az \"Emotion\" alatti értékek stringek voltak így kénytelen voltam létrehozni mégegy oszlopot \"Label\" néven amiben a 6 osztályt numerikus értékekkel is címkéztem az eredeti \"Emotion\" megtartása mellett.\n",
    "Mindhárom nagy dataframe-ből képeztem egy listát amiben az \"Emotion\" alatti értékek sorban fognak megjelenni."
   ]
  },
  {
   "cell_type": "code",
   "execution_count": 39,
   "id": "29a832db-5268-4186-847f-81631c6bde95",
   "metadata": {},
   "outputs": [
    {
     "name": "stdout",
     "output_type": "stream",
     "text": [
      "['fear', 'sadness', 'anger', 'love', 'happy', 'love', 'fear', 'fear', 'happy', 'sadness']\n",
      "<class 'str'>\n"
     ]
    }
   ],
   "source": [
    "emotion_train_list = df_train['Emotion'].tolist()\n",
    "emotion_test_list = df_test['Emotion'].tolist()\n",
    "emotion_val_list = df_val['Emotion'].tolist()\n",
    "\n",
    "print(emotion_train_list[:10])\n",
    "print(type(emotion_train_list[0]))"
   ]
  },
  {
   "cell_type": "markdown",
   "id": "e7587e7b-1b35-4079-a9cf-569663c334a1",
   "metadata": {},
   "source": [
    "A ```create_emotion_id()``` függvénnyel át lehet írni az előbb létrehozott listák beli értékeket az új numerikus értékekre. "
   ]
  },
  {
   "cell_type": "code",
   "execution_count": 40,
   "id": "853e4e77-a5c7-4e75-b12b-d141a6f9640c",
   "metadata": {},
   "outputs": [],
   "source": [
    "def create_emotion_id(emotion_list):\n",
    "    for i in range(len(emotion_list)):\n",
    "        if emotion_list[i] == \"sadness\":\n",
    "            emotion_list[i] = 0\n",
    "        elif emotion_list[i] == \"anger\":\n",
    "            emotion_list[i] = 1\n",
    "        elif emotion_list[i] == \"love\":\n",
    "            emotion_list[i] = 2\n",
    "        elif emotion_list[i] == \"surprise\":\n",
    "            emotion_list[i] = 3\n",
    "        elif emotion_list[i] == \"fear\":\n",
    "            emotion_list[i] = 4\n",
    "        elif emotion_list[i] == \"happy\":\n",
    "            emotion_list[i] = 5\n",
    "        else:\n",
    "            print('Error: emotion can not be labelled.')\n",
    "    return emotion_list"
   ]
  },
  {
   "cell_type": "code",
   "execution_count": 41,
   "id": "761c2ae9-1595-4706-990d-1ba77c3f1a80",
   "metadata": {},
   "outputs": [
    {
     "name": "stdout",
     "output_type": "stream",
     "text": [
      "[4, 0, 1, 2, 5, 2, 4, 4, 5, 0]\n"
     ]
    }
   ],
   "source": [
    "emotion_train_list = create_emotion_id(emotion_train_list)\n",
    "emotion_test_list = create_emotion_id(emotion_test_list)\n",
    "emotion_val_list = create_emotion_id(emotion_val_list)\n",
    "\n",
    "print(emotion_train_list[:10])"
   ]
  },
  {
   "cell_type": "markdown",
   "id": "a20af9ef-03e0-44ea-96a8-3b172f8aed9b",
   "metadata": {},
   "source": [
    "Az ```insert_label_to_df()``` függvénnyel az előbb létrehozott listáinkat fogjuk tudni új \"Label\" nevű oszlopként beleírni a train, test és validation dataframe-ekbe."
   ]
  },
  {
   "cell_type": "code",
   "execution_count": 42,
   "id": "f5019414-b0ac-4ecf-8a67-727d24478c71",
   "metadata": {},
   "outputs": [],
   "source": [
    "def insert_label_to_df(df, emotion_list):\n",
    "    df.insert(2, \"Label\", emotion_list, False)"
   ]
  },
  {
   "cell_type": "markdown",
   "id": "41d7eebc-4499-443a-aa12-2512eecfd882",
   "metadata": {},
   "source": [
    "Láthatjuk, hogy szépen megjelent az új oszlop megfelelő értékekkel feltöltve."
   ]
  },
  {
   "cell_type": "code",
   "execution_count": 43,
   "id": "558c9049-3a1b-4f07-8d57-ab02b8869222",
   "metadata": {},
   "outputs": [
    {
     "data": {
      "text/html": [
       "<div>\n",
       "<style scoped>\n",
       "    .dataframe tbody tr th:only-of-type {\n",
       "        vertical-align: middle;\n",
       "    }\n",
       "\n",
       "    .dataframe tbody tr th {\n",
       "        vertical-align: top;\n",
       "    }\n",
       "\n",
       "    .dataframe thead th {\n",
       "        text-align: right;\n",
       "    }\n",
       "</style>\n",
       "<table border=\"1\" class=\"dataframe\">\n",
       "  <thead>\n",
       "    <tr style=\"text-align: right;\">\n",
       "      <th></th>\n",
       "      <th>Text</th>\n",
       "      <th>Emotion</th>\n",
       "      <th>Label</th>\n",
       "    </tr>\n",
       "  </thead>\n",
       "  <tbody>\n",
       "    <tr>\n",
       "      <th>11197</th>\n",
       "      <td>i feel tortured by all this and im not quite s...</td>\n",
       "      <td>fear</td>\n",
       "      <td>4</td>\n",
       "    </tr>\n",
       "    <tr>\n",
       "      <th>8257</th>\n",
       "      <td>i feel like a whiney lil girl who s keeps whin...</td>\n",
       "      <td>sadness</td>\n",
       "      <td>0</td>\n",
       "    </tr>\n",
       "    <tr>\n",
       "      <th>9346</th>\n",
       "      <td>i feel jealous when i know he go out with othe...</td>\n",
       "      <td>anger</td>\n",
       "      <td>1</td>\n",
       "    </tr>\n",
       "    <tr>\n",
       "      <th>548</th>\n",
       "      <td>i had been indifferent to tell the feelings an...</td>\n",
       "      <td>love</td>\n",
       "      <td>2</td>\n",
       "    </tr>\n",
       "    <tr>\n",
       "      <th>3576</th>\n",
       "      <td>i really had prepared ourselves for the worst ...</td>\n",
       "      <td>happy</td>\n",
       "      <td>5</td>\n",
       "    </tr>\n",
       "  </tbody>\n",
       "</table>\n",
       "</div>"
      ],
      "text/plain": [
       "                                                    Text  Emotion  Label\n",
       "11197  i feel tortured by all this and im not quite s...     fear      4\n",
       "8257   i feel like a whiney lil girl who s keeps whin...  sadness      0\n",
       "9346   i feel jealous when i know he go out with othe...    anger      1\n",
       "548    i had been indifferent to tell the feelings an...     love      2\n",
       "3576   i really had prepared ourselves for the worst ...    happy      5"
      ]
     },
     "execution_count": 43,
     "metadata": {},
     "output_type": "execute_result"
    }
   ],
   "source": [
    "insert_label_to_df(df_train, emotion_train_list)\n",
    "insert_label_to_df(df_val, emotion_val_list)\n",
    "insert_label_to_df(df_test, emotion_test_list)\n",
    "df_train.head()"
   ]
  },
  {
   "cell_type": "markdown",
   "id": "4c9d1e8a-fefd-4549-8b10-d58f02de6d7f",
   "metadata": {},
   "source": [
    "Utolsó lépésként a ```df_train```, ```df_val``` és ```df_test``` dataframe-eket új .csv állományokba írom és ellenőrzöm, hogy azok megfelelőek-e a további munkára."
   ]
  },
  {
   "cell_type": "code",
   "execution_count": 44,
   "id": "b514e9d9-5cda-41d2-8bd3-a2aa79ad83f0",
   "metadata": {},
   "outputs": [
    {
     "name": "stdout",
     "output_type": "stream",
     "text": [
      "<class 'pandas.core.frame.DataFrame'>\n",
      "RangeIndex: 12875 entries, 0 to 12874\n",
      "Data columns (total 3 columns):\n",
      " #   Column   Non-Null Count  Dtype \n",
      "---  ------   --------------  ----- \n",
      " 0   Text     12875 non-null  object\n",
      " 1   Emotion  12875 non-null  object\n",
      " 2   Label    12875 non-null  int64 \n",
      "dtypes: int64(1), object(2)\n",
      "memory usage: 301.9+ KB\n",
      "======================================================================\n",
      "<class 'pandas.core.frame.DataFrame'>\n",
      "RangeIndex: 4292 entries, 0 to 4291\n",
      "Data columns (total 3 columns):\n",
      " #   Column   Non-Null Count  Dtype \n",
      "---  ------   --------------  ----- \n",
      " 0   Text     4292 non-null   object\n",
      " 1   Emotion  4292 non-null   object\n",
      " 2   Label    4292 non-null   int64 \n",
      "dtypes: int64(1), object(2)\n",
      "memory usage: 100.7+ KB\n",
      "======================================================================\n",
      "<class 'pandas.core.frame.DataFrame'>\n",
      "RangeIndex: 4292 entries, 0 to 4291\n",
      "Data columns (total 3 columns):\n",
      " #   Column   Non-Null Count  Dtype \n",
      "---  ------   --------------  ----- \n",
      " 0   Text     4292 non-null   object\n",
      " 1   Emotion  4292 non-null   object\n",
      " 2   Label    4292 non-null   int64 \n",
      "dtypes: int64(1), object(2)\n",
      "memory usage: 100.7+ KB\n"
     ]
    }
   ],
   "source": [
    "import csv\n",
    "\n",
    "train = \"../data/emotions_train.csv\"\n",
    "df_train.to_csv(train, sep=\",\", index=False)\n",
    "df_readed_train = pd.read_csv(\"../data/emotions_train.csv\", sep=\",\")\n",
    "df_readed_train.head()\n",
    "\n",
    "val = \"../data/emotions_val.csv\"\n",
    "df_val.to_csv(val, sep=\",\", index=False)\n",
    "df_readed_val = pd.read_csv(\"../data/emotions_val.csv\", sep=\",\")\n",
    "df_readed_val.head()\n",
    "\n",
    "test = \"../data/emotions_test.csv\"\n",
    "df_test.to_csv(test, sep=\",\", index=False)\n",
    "df_readed_test = pd.read_csv(\"../data/emotions_test.csv\", sep=\",\")\n",
    "df_readed_test.head()\n",
    "\n",
    "df_readed_train.info()\n",
    "print('='*70)\n",
    "df_readed_val.info()\n",
    "print('='*70)\n",
    "df_readed_test.info()"
   ]
  },
  {
   "cell_type": "code",
   "execution_count": null,
   "id": "db4c6c77-e4d7-47ce-838d-fff99aac8af0",
   "metadata": {},
   "outputs": [],
   "source": []
  }
 ],
 "metadata": {
  "kernelspec": {
   "display_name": "Python 3 (ipykernel)",
   "language": "python",
   "name": "python3"
  },
  "language_info": {
   "codemirror_mode": {
    "name": "ipython",
    "version": 3
   },
   "file_extension": ".py",
   "mimetype": "text/x-python",
   "name": "python",
   "nbconvert_exporter": "python",
   "pygments_lexer": "ipython3",
   "version": "3.9.12"
  }
 },
 "nbformat": 4,
 "nbformat_minor": 5
}
