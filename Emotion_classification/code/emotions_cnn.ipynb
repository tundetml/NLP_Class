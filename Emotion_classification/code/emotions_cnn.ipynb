{
 "cells": [
  {
   "cell_type": "markdown",
   "id": "be628ea2-ae52-4d82-9a87-2814a8202737",
   "metadata": {},
   "source": [
    "# Konvolúciós neurális háló\n",
    "\n",
    "Itt is a .csv fájlok beolvasásával kezdődik a munka."
   ]
  },
  {
   "cell_type": "code",
   "execution_count": 87,
   "id": "c768ef07-1650-4068-a12c-5f41cbd176f3",
   "metadata": {},
   "outputs": [
    {
     "name": "stdout",
     "output_type": "stream",
     "text": [
      "<class 'pandas.core.frame.DataFrame'>\n",
      "RangeIndex: 12875 entries, 0 to 12874\n",
      "Data columns (total 3 columns):\n",
      " #   Column   Non-Null Count  Dtype \n",
      "---  ------   --------------  ----- \n",
      " 0   Text     12875 non-null  object\n",
      " 1   Emotion  12875 non-null  object\n",
      " 2   Label    12875 non-null  int64 \n",
      "dtypes: int64(1), object(2)\n",
      "memory usage: 301.9+ KB\n"
     ]
    },
    {
     "data": {
      "text/plain": [
       "array([[<AxesSubplot:title={'center':'Label'}>]], dtype=object)"
      ]
     },
     "execution_count": 87,
     "metadata": {},
     "output_type": "execute_result"
    },
    {
     "data": {
      "image/png": "[encoded data removed]",
      "text/plain": [
       "<Figure size 432x288 with 1 Axes>"
      ]
     },
     "metadata": {
      "needs_background": "light"
     },
     "output_type": "display_data"
    }
   ],
   "source": [
    "import pandas as pd\n",
    "\n",
    "df_train = pd.read_csv(\"../data/emotions_train.csv\", sep=\",\")\n",
    "df_train.info()\n",
    "df_train.head()\n",
    "df_train.hist()"
   ]
  },
  {
   "cell_type": "code",
   "execution_count": 88,
   "id": "7c7da565-1b42-4200-84a8-ce1c1818febf",
   "metadata": {},
   "outputs": [
    {
     "name": "stdout",
     "output_type": "stream",
     "text": [
      "<class 'pandas.core.frame.DataFrame'>\n",
      "RangeIndex: 4292 entries, 0 to 4291\n",
      "Data columns (total 3 columns):\n",
      " #   Column   Non-Null Count  Dtype \n",
      "---  ------   --------------  ----- \n",
      " 0   Text     4292 non-null   object\n",
      " 1   Emotion  4292 non-null   object\n",
      " 2   Label    4292 non-null   int64 \n",
      "dtypes: int64(1), object(2)\n",
      "memory usage: 100.7+ KB\n"
     ]
    },
    {
     "data": {
      "text/plain": [
       "array([[<AxesSubplot:title={'center':'Label'}>]], dtype=object)"
      ]
     },
     "execution_count": 88,
     "metadata": {},
     "output_type": "execute_result"
    },
    {
     "data": {
      "image/png": "[encoded data removed]",
      "text/plain": [
       "<Figure size 432x288 with 1 Axes>"
      ]
     },
     "metadata": {
      "needs_background": "light"
     },
     "output_type": "display_data"
    }
   ],
   "source": [
    "df_val = pd.read_csv(\"../data/emotions_val.csv\", sep=\",\")\n",
    "df_val.info()\n",
    "df_val.head()\n",
    "df_val.hist()"
   ]
  },
  {
   "cell_type": "code",
   "execution_count": 89,
   "id": "6c208df4-c8a5-424b-8463-5aa0e943be97",
   "metadata": {},
   "outputs": [
    {
     "name": "stdout",
     "output_type": "stream",
     "text": [
      "<class 'pandas.core.frame.DataFrame'>\n",
      "RangeIndex: 4292 entries, 0 to 4291\n",
      "Data columns (total 3 columns):\n",
      " #   Column   Non-Null Count  Dtype \n",
      "---  ------   --------------  ----- \n",
      " 0   Text     4292 non-null   object\n",
      " 1   Emotion  4292 non-null   object\n",
      " 2   Label    4292 non-null   int64 \n",
      "dtypes: int64(1), object(2)\n",
      "memory usage: 100.7+ KB\n"
     ]
    },
    {
     "data": {
      "text/plain": [
       "array([[<AxesSubplot:title={'center':'Label'}>]], dtype=object)"
      ]
     },
     "execution_count": 89,
     "metadata": {},
     "output_type": "execute_result"
    },
    {
     "data": {
      "image/png": "[encoded data removed]",
      "text/plain": [
       "<Figure size 432x288 with 1 Axes>"
      ]
     },
     "metadata": {
      "needs_background": "light"
     },
     "output_type": "display_data"
    }
   ],
   "source": [
    "df_test = pd.read_csv(\"../data/emotions_test.csv\", sep=\",\")\n",
    "df_test.info()\n",
    "df_test.head()\n",
    "df_test.hist()"
   ]
  },
  {
   "cell_type": "code",
   "execution_count": 90,
   "id": "e60a9cdd-7e7e-4a7d-a5a9-9d1f400333f2",
   "metadata": {},
   "outputs": [],
   "source": [
    "train = list(df_train[\"Text\"].values)\n",
    "val = list(df_val[\"Text\"].values)\n",
    "test = list(df_test[\"Text\"].values)"
   ]
  },
  {
   "cell_type": "markdown",
   "id": "d60c94e8-6b4b-4fd2-b81c-8a9784bfd494",
   "metadata": {},
   "source": [
    "A ```BertWordPieceTokenizer``` használatával tokeinzáljuk a szöveget."
   ]
  },
  {
   "cell_type": "code",
   "execution_count": 91,
   "id": "dd4ec29b-ed23-4b1f-93db-c5c9b00a451e",
   "metadata": {},
   "outputs": [],
   "source": [
    "import numpy as np\n",
    "from tokenizers import BertWordPieceTokenizer\n",
    "\n",
    "tokenizer = BertWordPieceTokenizer(\"../data/bert-base-uncased-vocab.txt\",\n",
    "                                   lowercase=True)\n",
    "\n",
    "def bert_tokenizer(data):\n",
    "    result = []\n",
    "    for item in data:\n",
    "        result.append(tokenizer.encode(item).ids)\n",
    "    \n",
    "    return np.array(result, dtype=object)"
   ]
  },
  {
   "cell_type": "markdown",
   "id": "851334f6-2f47-4215-9bae-40ede60c3eb8",
   "metadata": {},
   "source": [
    "Előállítjuk a következőket: ```X_train```, ```X_val```, ```X_test``` a tokenizált szövegekből. Illetve az ```y_train```, ```y_val``` és ```y_test```-et a \"Label\" értékekből. Ezekre majd a ```model.fit()``` során lesz szükségünk."
   ]
  },
  {
   "cell_type": "code",
   "execution_count": 92,
   "id": "4cf4c77d-cee2-4978-9ed9-8da5aba13656",
   "metadata": {},
   "outputs": [],
   "source": [
    "import tensorflow as tf\n",
    "\n",
    "maxlen = 128\n",
    "\n",
    "X_train = bert_tokenizer(train)\n",
    "X_train = tf.keras.preprocessing.sequence.pad_sequences(X_train, maxlen=maxlen)\n",
    "y_train = df_train[\"Label\"].values\n",
    "\n",
    "X_val = bert_tokenizer(val)\n",
    "X_val = tf.keras.preprocessing.sequence.pad_sequences(X_val, maxlen=maxlen)\n",
    "y_val = df_val[\"Label\"].values\n",
    "\n",
    "\n",
    "X_test = bert_tokenizer(test)\n",
    "X_test = tf.keras.preprocessing.sequence.pad_sequences(X_test, maxlen=maxlen)\n",
    "y_test = df_test[\"Label\"].values"
   ]
  },
  {
   "cell_type": "markdown",
   "id": "744f87d7-c68a-4a36-8a7e-631160142900",
   "metadata": {},
   "source": [
    "Összeállítjuk a modellt amit majd szeretnénk használni. Itt a ```units=6```-ot módosítottam mivel az általam használt adathalmazban 6 különböző osztály jelenik meg így ezt 6-ra módosítottam. 1D konvolúciót fogunk használni és létrehozzuk a ```model_cnn``` modellt."
   ]
  },
  {
   "cell_type": "code",
   "execution_count": 93,
   "id": "07aadd5a-90c6-4d59-8af2-767af525936b",
   "metadata": {},
   "outputs": [
    {
     "name": "stdout",
     "output_type": "stream",
     "text": [
      "Model: \"sequential_10\"\n",
      "_________________________________________________________________\n",
      " Layer (type)                Output Shape              Param #   \n",
      "=================================================================\n",
      " embedding_10 (Embedding)    (None, 128, 32)           976736    \n",
      "                                                                 \n",
      " conv1d_16 (Conv1D)          (None, 122, 32)           7200      \n",
      "                                                                 \n",
      " max_pooling1d_6 (MaxPooling  (None, 24, 32)           0         \n",
      " 1D)                                                             \n",
      "                                                                 \n",
      " conv1d_17 (Conv1D)          (None, 18, 32)            7200      \n",
      "                                                                 \n",
      " global_max_pooling1d_6 (Glo  (None, 32)               0         \n",
      " balMaxPooling1D)                                                \n",
      "                                                                 \n",
      " dense_10 (Dense)            (None, 6)                 198       \n",
      "                                                                 \n",
      "=================================================================\n",
      "Total params: 991,334\n",
      "Trainable params: 991,334\n",
      "Non-trainable params: 0\n",
      "_________________________________________________________________\n"
     ]
    }
   ],
   "source": [
    "import tensorflow as tf\n",
    "\n",
    "emb_size = 32\n",
    "max_features = 30523 # vocab size\n",
    "\n",
    "model_cnn = tf.keras.Sequential([\n",
    "    tf.keras.layers.Embedding(max_features, emb_size, input_length=maxlen),\n",
    "    tf.keras.layers.Conv1D(32, 7, activation='relu'),\n",
    "    tf.keras.layers.MaxPooling1D(5),\n",
    "    tf.keras.layers.Conv1D(32, 7, activation='relu'),\n",
    "    tf.keras.layers.GlobalMaxPooling1D(),\n",
    "    tf.keras.layers.Dense(units=6, activation='softmax')\n",
    "]) \n",
    "\n",
    "model_cnn.compile(optimizer='adam',\n",
    "                  loss=\"sparse_categorical_crossentropy\",\n",
    "                  metrics=['accuracy'])\n",
    "\n",
    "model_cnn.summary()"
   ]
  },
  {
   "cell_type": "markdown",
   "id": "0ef17b73-cc54-4c2c-becd-570fba803f3b",
   "metadata": {},
   "source": [
    "A taníttatás 5 epochon keresztül fog zajlani és itt is a másik neurális hálóhoz hasonlóan próbáltam valamennyire súlyozni a különböző osztályokat. a ```(monitor='val_accuracy', patience=2)``` segítségével ha a ```val_accuracy``` értéke 3 epoch után sem változik akkor befejezi a folyamatot."
   ]
  },
  {
   "cell_type": "code",
   "execution_count": 94,
   "id": "3ca1f81b-b505-4ede-87c8-760604fc4436",
   "metadata": {},
   "outputs": [
    {
     "name": "stdout",
     "output_type": "stream",
     "text": [
      "Epoch 1/5\n",
      "403/403 [==============================] - 9s 19ms/step - loss: 2.9959 - accuracy: 0.2043 - val_loss: 1.4243 - val_accuracy: 0.4758\n",
      "Epoch 2/5\n",
      "403/403 [==============================] - 8s 19ms/step - loss: 1.6172 - accuracy: 0.7256 - val_loss: 0.5582 - val_accuracy: 0.8085\n",
      "Epoch 3/5\n",
      "403/403 [==============================] - 8s 19ms/step - loss: 0.6522 - accuracy: 0.8694 - val_loss: 0.5393 - val_accuracy: 0.8080\n",
      "Epoch 4/5\n",
      "403/403 [==============================] - 8s 19ms/step - loss: 0.3906 - accuracy: 0.9181 - val_loss: 0.5636 - val_accuracy: 0.8134\n",
      "Epoch 5/5\n",
      "403/403 [==============================] - 8s 19ms/step - loss: 0.2770 - accuracy: 0.9412 - val_loss: 0.6050 - val_accuracy: 0.8155\n"
     ]
    }
   ],
   "source": [
    "callback = tf.keras.callbacks.EarlyStopping(monitor='val_accuracy', patience=2)\n",
    "\n",
    "h_cnn = model_cnn.fit(X_train, \n",
    "                      y_train,\n",
    "                      epochs=5,\n",
    "                      batch_size=32,\n",
    "                      class_weight={0:1.,\n",
    "                             1:2.,\n",
    "                             2:3.,\n",
    "                             3:6.,\n",
    "                             4:3.,\n",
    "                             5:1.},\n",
    "                      callbacks=[callback],\n",
    "                      validation_data=(X_val, y_val))"
   ]
  },
  {
   "cell_type": "markdown",
   "id": "c40d4d61-3fa0-4aff-8ebd-08f3954625a5",
   "metadata": {},
   "source": [
    "A továbbiakban láthatjuk a tanítattás eredményeit számokkal és grafikus módszerekkel reprezentálva."
   ]
  },
  {
   "cell_type": "code",
   "execution_count": 95,
   "id": "aa607842-c295-4620-b15c-359e20585da2",
   "metadata": {},
   "outputs": [
    {
     "data": {
      "image/png": "[encoded data removed]",
      "text/plain": [
       "<Figure size 432x288 with 1 Axes>"
      ]
     },
     "metadata": {
      "needs_background": "light"
     },
     "output_type": "display_data"
    }
   ],
   "source": [
    "import matplotlib.pyplot as plt\n",
    "\n",
    "plt.plot(h_cnn.history['loss'], label='(training data)',color='blue')\n",
    "plt.plot(h_cnn.history['val_loss'], label='(val data)',color='green')\n",
    "plt.title('Neural Network loss')\n",
    "plt.ylabel('value')\n",
    "plt.xlabel('No. epoch')\n",
    "plt.show()"
   ]
  },
  {
   "cell_type": "code",
   "execution_count": 96,
   "id": "678c459f-2b4e-48ec-b909-bceb50bef120",
   "metadata": {},
   "outputs": [
    {
     "data": {
      "image/png": "[encoded data removed]",
      "text/plain": [
       "<Figure size 432x288 with 1 Axes>"
      ]
     },
     "metadata": {
      "needs_background": "light"
     },
     "output_type": "display_data"
    }
   ],
   "source": [
    "import matplotlib.pyplot as plt\n",
    "\n",
    "plt.plot(h_cnn.history['accuracy'], label='(training data)',color='blue')\n",
    "plt.plot(h_cnn.history['val_accuracy'], label='(val data)',color='green')\n",
    "plt.title('Neural Network accuracy')\n",
    "plt.ylabel('value')\n",
    "plt.xlabel('No. epoch')\n",
    "plt.show()"
   ]
  },
  {
   "cell_type": "code",
   "execution_count": 97,
   "id": "c0ce2c4f-6109-446d-8a73-18ef5f58a4f3",
   "metadata": {},
   "outputs": [
    {
     "name": "stdout",
     "output_type": "stream",
     "text": [
      "135/135 [==============================] - 0s 3ms/step - loss: 1.1561 - accuracy: 0.6915\n",
      "Simple cnn test loss, test acc: [1.1561390161514282, 0.6915190815925598]\n"
     ]
    }
   ],
   "source": [
    "results = model_cnn.evaluate(X_test, y_test, batch_size=32)\n",
    "print(\"Simple cnn test loss, test acc:\", results)"
   ]
  },
  {
   "cell_type": "code",
   "execution_count": null,
   "id": "7ef1138a-c64e-4f09-8934-9ae546eadbaf",
   "metadata": {},
   "outputs": [],
   "source": []
  }
 ],
 "metadata": {
  "kernelspec": {
   "display_name": "Python 3 (ipykernel)",
   "language": "python",
   "name": "python3"
  },
  "language_info": {
   "codemirror_mode": {
    "name": "ipython",
    "version": 3
   },
   "file_extension": ".py",
   "mimetype": "text/x-python",
   "name": "python",
   "nbconvert_exporter": "python",
   "pygments_lexer": "ipython3",
   "version": "3.9.12"
  }
 },
 "nbformat": 4,
 "nbformat_minor": 5
}
